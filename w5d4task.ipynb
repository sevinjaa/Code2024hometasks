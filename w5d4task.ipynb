{
 "cells": [
  {
   "cell_type": "code",
   "execution_count": 84,
   "metadata": {},
   "outputs": [],
   "source": [
    "import pandas as pd\n",
    "import numpy as np\n",
    "from datetime import datetime"
   ]
  },
  {
   "cell_type": "code",
   "execution_count": 85,
   "metadata": {},
   "outputs": [],
   "source": [
    "path='D:/code academy/week 5/data.csv'"
   ]
  },
  {
   "cell_type": "code",
   "execution_count": 86,
   "metadata": {},
   "outputs": [],
   "source": [
    "df=pd.read_csv(path)"
   ]
  },
  {
   "cell_type": "code",
   "execution_count": 87,
   "metadata": {},
   "outputs": [
    {
     "data": {
      "text/html": [
       "<div>\n",
       "<style scoped>\n",
       "    .dataframe tbody tr th:only-of-type {\n",
       "        vertical-align: middle;\n",
       "    }\n",
       "\n",
       "    .dataframe tbody tr th {\n",
       "        vertical-align: top;\n",
       "    }\n",
       "\n",
       "    .dataframe thead th {\n",
       "        text-align: right;\n",
       "    }\n",
       "</style>\n",
       "<table border=\"1\" class=\"dataframe\">\n",
       "  <thead>\n",
       "    <tr style=\"text-align: right;\">\n",
       "      <th></th>\n",
       "      <th>status</th>\n",
       "      <th>bed</th>\n",
       "      <th>bath</th>\n",
       "      <th>acre_lot</th>\n",
       "      <th>city</th>\n",
       "      <th>state</th>\n",
       "      <th>zip_code</th>\n",
       "      <th>house_size</th>\n",
       "      <th>prev_sold_date</th>\n",
       "      <th>price</th>\n",
       "    </tr>\n",
       "  </thead>\n",
       "  <tbody>\n",
       "    <tr>\n",
       "      <th>0</th>\n",
       "      <td>for_sale</td>\n",
       "      <td>3.0</td>\n",
       "      <td>2.0</td>\n",
       "      <td>0.12</td>\n",
       "      <td>Adjuntas</td>\n",
       "      <td>Puerto Rico</td>\n",
       "      <td>601.0</td>\n",
       "      <td>920.0</td>\n",
       "      <td>NaN</td>\n",
       "      <td>105000.0</td>\n",
       "    </tr>\n",
       "    <tr>\n",
       "      <th>1</th>\n",
       "      <td>for_sale</td>\n",
       "      <td>4.0</td>\n",
       "      <td>2.0</td>\n",
       "      <td>0.08</td>\n",
       "      <td>Adjuntas</td>\n",
       "      <td>Puerto Rico</td>\n",
       "      <td>601.0</td>\n",
       "      <td>1527.0</td>\n",
       "      <td>NaN</td>\n",
       "      <td>80000.0</td>\n",
       "    </tr>\n",
       "    <tr>\n",
       "      <th>2</th>\n",
       "      <td>for_sale</td>\n",
       "      <td>2.0</td>\n",
       "      <td>1.0</td>\n",
       "      <td>0.15</td>\n",
       "      <td>Juana Diaz</td>\n",
       "      <td>Puerto Rico</td>\n",
       "      <td>795.0</td>\n",
       "      <td>748.0</td>\n",
       "      <td>NaN</td>\n",
       "      <td>67000.0</td>\n",
       "    </tr>\n",
       "    <tr>\n",
       "      <th>3</th>\n",
       "      <td>for_sale</td>\n",
       "      <td>4.0</td>\n",
       "      <td>2.0</td>\n",
       "      <td>0.10</td>\n",
       "      <td>Ponce</td>\n",
       "      <td>Puerto Rico</td>\n",
       "      <td>731.0</td>\n",
       "      <td>1800.0</td>\n",
       "      <td>NaN</td>\n",
       "      <td>145000.0</td>\n",
       "    </tr>\n",
       "    <tr>\n",
       "      <th>4</th>\n",
       "      <td>for_sale</td>\n",
       "      <td>6.0</td>\n",
       "      <td>2.0</td>\n",
       "      <td>0.05</td>\n",
       "      <td>Mayaguez</td>\n",
       "      <td>Puerto Rico</td>\n",
       "      <td>680.0</td>\n",
       "      <td>NaN</td>\n",
       "      <td>NaN</td>\n",
       "      <td>65000.0</td>\n",
       "    </tr>\n",
       "  </tbody>\n",
       "</table>\n",
       "</div>"
      ],
      "text/plain": [
       "     status  bed  bath  acre_lot        city        state  zip_code  \\\n",
       "0  for_sale  3.0   2.0      0.12    Adjuntas  Puerto Rico     601.0   \n",
       "1  for_sale  4.0   2.0      0.08    Adjuntas  Puerto Rico     601.0   \n",
       "2  for_sale  2.0   1.0      0.15  Juana Diaz  Puerto Rico     795.0   \n",
       "3  for_sale  4.0   2.0      0.10       Ponce  Puerto Rico     731.0   \n",
       "4  for_sale  6.0   2.0      0.05    Mayaguez  Puerto Rico     680.0   \n",
       "\n",
       "   house_size prev_sold_date     price  \n",
       "0       920.0            NaN  105000.0  \n",
       "1      1527.0            NaN   80000.0  \n",
       "2       748.0            NaN   67000.0  \n",
       "3      1800.0            NaN  145000.0  \n",
       "4         NaN            NaN   65000.0  "
      ]
     },
     "execution_count": 87,
     "metadata": {},
     "output_type": "execute_result"
    }
   ],
   "source": [
    "df.head()"
   ]
  },
  {
   "cell_type": "code",
   "execution_count": 88,
   "metadata": {},
   "outputs": [
    {
     "data": {
      "text/plain": [
       "(1401066, 10)"
      ]
     },
     "execution_count": 88,
     "metadata": {},
     "output_type": "execute_result"
    }
   ],
   "source": [
    "df.shape"
   ]
  },
  {
   "cell_type": "code",
   "execution_count": 89,
   "metadata": {},
   "outputs": [
    {
     "data": {
      "text/plain": [
       "status                 0\n",
       "bed               216528\n",
       "bath              194213\n",
       "acre_lot          357467\n",
       "city                 191\n",
       "state                  0\n",
       "zip_code             479\n",
       "house_size        450112\n",
       "prev_sold_date    686293\n",
       "price                108\n",
       "dtype: int64"
      ]
     },
     "execution_count": 89,
     "metadata": {},
     "output_type": "execute_result"
    }
   ],
   "source": [
    "df.isnull().sum()"
   ]
  },
  {
   "cell_type": "code",
   "execution_count": 90,
   "metadata": {},
   "outputs": [
    {
     "name": "stdout",
     "output_type": "stream",
     "text": [
      "status 0.0\n",
      "bed 0.15\n",
      "bath 0.14\n",
      "acre_lot 0.26\n",
      "city 0.0\n",
      "state 0.0\n",
      "zip_code 0.0\n",
      "house_size 0.32\n",
      "prev_sold_date 0.49\n",
      "price 0.0\n"
     ]
    }
   ],
   "source": [
    "for c in df.columns:\n",
    "    print(c, round(df[c].isnull().sum()/len(df),2))"
   ]
  },
  {
   "cell_type": "code",
   "execution_count": 91,
   "metadata": {},
   "outputs": [
    {
     "name": "stdout",
     "output_type": "stream",
     "text": [
      "status - object - 2\n",
      "bed - float64 - 48\n",
      "bath - float64 - 42\n",
      "acre_lot - float64 - 4488\n",
      "city - object - 3512\n",
      "state - object - 19\n",
      "zip_code - float64 - 4220\n",
      "house_size - float64 - 6855\n",
      "prev_sold_date - object - 10319\n",
      "price - float64 - 8735\n"
     ]
    }
   ],
   "source": [
    "for c in df.columns:\n",
    "    print(c,\"-\",  df[c].dtype, \"-\", df[c].nunique())"
   ]
  },
  {
   "cell_type": "code",
   "execution_count": 92,
   "metadata": {},
   "outputs": [],
   "source": [
    "df.drop_duplicates(inplace=True)"
   ]
  },
  {
   "cell_type": "code",
   "execution_count": 93,
   "metadata": {},
   "outputs": [],
   "source": [
    "df['prev_sold_date']=pd.to_datetime(df['prev_sold_date'], format='%Y-%m-%d')"
   ]
  },
  {
   "cell_type": "code",
   "execution_count": 94,
   "metadata": {},
   "outputs": [
    {
     "data": {
      "text/plain": [
       "(152040, 10)"
      ]
     },
     "execution_count": 94,
     "metadata": {},
     "output_type": "execute_result"
    }
   ],
   "source": [
    "df.shape"
   ]
  },
  {
   "cell_type": "code",
   "execution_count": 95,
   "metadata": {},
   "outputs": [
    {
     "data": {
      "text/plain": [
       "status\n",
       "for_sale          151745\n",
       "ready_to_build       295\n",
       "Name: count, dtype: int64"
      ]
     },
     "execution_count": 95,
     "metadata": {},
     "output_type": "execute_result"
    }
   ],
   "source": [
    "df['status'].value_counts() #2 variable var, tipi kateqorikdir"
   ]
  },
  {
   "cell_type": "code",
   "execution_count": 96,
   "metadata": {},
   "outputs": [
    {
     "data": {
      "text/plain": [
       "bed\n",
       "3.0      42228\n",
       "4.0      27185\n",
       "2.0      24675\n",
       "1.0      11599\n",
       "5.0      10298\n",
       "6.0       5664\n",
       "7.0       1935\n",
       "8.0       1394\n",
       "9.0        667\n",
       "10.0       375\n",
       "12.0       240\n",
       "11.0       177\n",
       "14.0        61\n",
       "13.0        61\n",
       "16.0        39\n",
       "15.0        35\n",
       "18.0        26\n",
       "20.0        23\n",
       "17.0        22\n",
       "22.0        11\n",
       "19.0        11\n",
       "21.0        10\n",
       "24.0         7\n",
       "28.0         5\n",
       "23.0         5\n",
       "25.0         4\n",
       "40.0         3\n",
       "30.0         3\n",
       "31.0         3\n",
       "42.0         2\n",
       "29.0         2\n",
       "27.0         2\n",
       "36.0         2\n",
       "32.0         2\n",
       "33.0         2\n",
       "49.0         1\n",
       "99.0         1\n",
       "46.0         1\n",
       "60.0         1\n",
       "68.0         1\n",
       "123.0        1\n",
       "86.0         1\n",
       "47.0         1\n",
       "35.0         1\n",
       "38.0         1\n",
       "64.0         1\n",
       "48.0         1\n",
       "75.0         1\n",
       "Name: count, dtype: int64"
      ]
     },
     "execution_count": 96,
     "metadata": {},
     "output_type": "execute_result"
    }
   ],
   "source": [
    "df['bed'].value_counts() # tipi numericdir"
   ]
  },
  {
   "cell_type": "code",
   "execution_count": 97,
   "metadata": {},
   "outputs": [
    {
     "data": {
      "text/plain": [
       "bath\n",
       "2.0      45592\n",
       "1.0      31202\n",
       "3.0      30907\n",
       "4.0      11295\n",
       "5.0       4553\n",
       "6.0       2193\n",
       "7.0       1063\n",
       "8.0        687\n",
       "9.0        372\n",
       "10.0       233\n",
       "11.0       105\n",
       "12.0       104\n",
       "13.0        43\n",
       "16.0        23\n",
       "14.0        21\n",
       "15.0        18\n",
       "18.0        14\n",
       "17.0        13\n",
       "20.0        10\n",
       "19.0         8\n",
       "22.0         5\n",
       "21.0         5\n",
       "28.0         4\n",
       "25.0         3\n",
       "24.0         3\n",
       "30.0         3\n",
       "29.0         2\n",
       "36.0         2\n",
       "27.0         2\n",
       "35.0         2\n",
       "33.0         1\n",
       "198.0        1\n",
       "51.0         1\n",
       "42.0         1\n",
       "56.0         1\n",
       "46.0         1\n",
       "123.0        1\n",
       "39.0         1\n",
       "43.0         1\n",
       "32.0         1\n",
       "45.0         1\n",
       "64.0         1\n",
       "Name: count, dtype: int64"
      ]
     },
     "execution_count": 97,
     "metadata": {},
     "output_type": "execute_result"
    }
   ],
   "source": [
    "df['bath'].value_counts() #numeric"
   ]
  },
  {
   "cell_type": "code",
   "execution_count": 98,
   "metadata": {},
   "outputs": [
    {
     "data": {
      "text/plain": [
       "zip_code\n",
       "11201.0    743\n",
       "10023.0    725\n",
       "10022.0    700\n",
       "10011.0    646\n",
       "10016.0    636\n",
       "          ... \n",
       "4635.0       1\n",
       "4629.0       1\n",
       "6904.0       1\n",
       "4637.0       1\n",
       "4662.0       1\n",
       "Name: count, Length: 4220, dtype: int64"
      ]
     },
     "execution_count": 98,
     "metadata": {},
     "output_type": "execute_result"
    }
   ],
   "source": [
    "df['zip_code'].value_counts()"
   ]
  },
  {
   "cell_type": "code",
   "execution_count": 99,
   "metadata": {},
   "outputs": [],
   "source": [
    "#df = df.astype({\"Name\":'category', \"Age\":'int64'}) \n",
    "#zip_code - nominaldir\n",
    "df['zip_code'] = df['zip_code'].fillna(-1)\n",
    "df['zip_code'] = df['zip_code'].astype(int)\n",
    "df['zip_code'] = df['zip_code'].astype(str)\n",
    "df['zip_code'] = df['zip_code'].replace('-1', np.nan)"
   ]
  },
  {
   "cell_type": "code",
   "execution_count": 100,
   "metadata": {},
   "outputs": [],
   "source": [
    "city_dict=df['city'].value_counts().to_dict()"
   ]
  },
  {
   "cell_type": "code",
   "execution_count": 101,
   "metadata": {},
   "outputs": [
    {
     "name": "stdout",
     "output_type": "stream",
     "text": [
      "['Abbot', 'Aberdeen', 'Abington', 'Absecon', 'Absecon Highlands', 'Accord', 'Acra', 'Acton', 'Acushnet', 'Acworth', 'Adams', 'Adams Center', 'Adamstown Township', 'Addisleigh Park', 'Addison', 'Adelphia', 'Adjuntas', 'Afton', 'Agawam', 'Aguada', 'Aguadilla', 'Aguas Buenas', 'Aibonito', 'Airmont', 'Akron', 'Alabama', 'Albany', 'Albertson', 'Albion', 'Alburgh', 'Aldan', 'Alden', 'Alder Creek', 'Alexander', 'Alexandria', 'Alexandria Bay', 'Alexandria Township', 'Alford', 'Alfred', 'Allaben', 'Allagash', 'Allamuchy Township', 'Allendale', 'Allenhurst', 'Allenstown', 'Allentown', 'Allenwood', 'Alloway', 'Allston', 'Alna', 'Alpha', 'Alpine', 'Alstead', 'Altamont', 'Altmar', 'Alton', 'Altona', 'Amagansett', 'Amawalk', 'Ambler', 'Amboy', 'Amenia', 'Ames', 'Amesbury', 'Amherst', 'Amity', 'Amity Harbor', 'Amityville', 'Amsterdam', 'Anasco', 'Ancram', 'Ancramdale', 'Anderson Rd', 'Andes', 'Andover', 'Angelica', 'Angola', 'Annandale', 'Annsville', 'Anson', 'Ansonia', 'Antrim', 'Antwerp', 'Apalachin', 'Appleton', 'Apulia Station', 'Aquebogue', 'Aquinnah', 'Ararat', 'Arcade', 'Arden', 'Ardmore', 'Ardsley', 'Arecibo', 'Argyle', 'Argyle Township', 'Arietta', 'Arkville', 'Arlington', 'Armonk', 'Arrowsic', 'Arroyo', 'Arundel', 'Arverne', 'Asbury Park', 'Ashburnham', 'Ashby', 'Ashfield', 'Ashford', 'Ashland', 'Aston', 'Astoria', 'Atco', 'Athens', 'Athol', 'Atkinson', 'Atlantic Beach', 'Atlantic City', 'Atlantic Highlands', 'Atlantique', 'Attica', 'Attleboro', 'Au Sable Forks', 'Auburn', 'Audubon', 'Augusta', 'Aurora', 'Ausable', 'Austerlitz', 'Ava', 'Avalon', 'Avalon Manor', 'Avenel', 'Averill', 'Avon', 'Avon By The Sea', 'Avondale', 'Ayer', 'Babylon', 'Back Bay', 'Baileyville', 'Bainbridge', 'Baiting Hollow', 'Bakersfield', 'Bala Cynwyd', 'Baldwin', 'Baldwin Harbor', 'Baldwinsville', 'Ballston Lake', 'Ballston Spa', 'Baltimore', 'Bangor', 'Bar Harbor', 'Barceloneta', 'Bardonia', 'Baring Plt', 'Barker', 'Barkhamsted', 'Barnard', 'Barnegat', 'Barnegat Light', 'Barnegat Township', 'Barnet', 'Barneveld', 'Barnstable', 'Barnstead', 'Barranquitas', 'Barre', 'Barrington', 'Barryville', 'Bartlett', 'Barton', 'Basking Ridge', 'Basom', 'Bass River', 'Batavia', 'Bath', 'Bath Beach', 'Bay Head', 'Bay Shore', 'Bayamon', 'Bayamón', 'Bayonne', 'Bayport', 'Bayside', 'Bayville', 'Beach Haven', 'Beach Haven West', 'Beach Lake', 'Beachwood', 'Beacon', 'Beacon Falls', 'Beals', 'Bear', 'Bearsville', 'Beaver Cove', 'Becket', 'Bed Stuy', 'Beddington', 'Bedford', 'Bedford Corners', 'Bedford Hills', 'Bedminster Twp', 'Bedstuy', 'Bedstuy Brooklyn', 'Beechhurst', 'Beekmantown', 'Beesleys Point', 'Belchertown', 'Belfast', 'Belford', 'Belgrade', 'Belle Harbor', 'Belle Mead', 'Belle Terre', 'Belleplain', 'Bellerose', 'Bellerose Manor', 'Bellerose village', 'Belleville', 'Bellingham', 'Bellmawr', 'Bellmore', 'Bellport', 'Bellport village', 'Belmar', 'Belmont', 'Belvidere', 'Benedicta', 'Bennington', 'Bensalem', 'Benson', 'Benton', 'Bergen', 'Bergenfield', 'Berkeley', 'Berkeley Heights', 'Berkeley Heights Twp', 'Berkeley Township', 'Berkley', 'Berkshire', 'Berlin', 'Bernards Twp', 'Bernardston', 'Bernardsville', 'Berne', 'Bernhards Bay', 'Berwick', 'Berwyn', 'Bethany', 'Bethel', 'Bethlehem', 'Bethlehem Township', 'Bethpage', 'Beverly', 'Biddeford', 'Big Indian', 'Big Lake Township', 'Big Moose', 'Big Moose Township', 'Billerica', 'Bingham', 'Binghamton', 'Black Brook', 'Black River', 'Blackstone', 'Blackwood', 'Blaine', 'Blairstown', 'Blanchard Township', 'Blandford', 'Blasdell', 'Blauvelt', 'Bleecker', 'Blenheim', 'Bliss', 'Block Island', 'Bloomfield', 'Blooming Grove', 'Bloomingburg', 'Bloomingdale', 'Bloomington', 'Bloomsbury', 'Blossvale', 'Blue Anchor', 'Blue Hill', 'Blue Point', 'Bogota', 'Bohemia', 'Boiceville', 'Bolton', 'Bolton Landing', 'Bombay', 'Boonton', 'Boonton Township', 'Boonville', 'Boothbay', 'Boothbay Harbor', 'Boothwyn', 'Boqueron', 'Bordentown', 'Boscawen', 'Boston', 'Bound Brook', 'Bourne', 'Bournedale', 'Bovina Center', 'Bow', 'Bowdoin', 'Bowdoinham', 'Bowerbank', 'Bowmansville', 'Boxborough', 'Boxford', 'Boylston', 'Bozrah', 'Brackney', 'Bradford', 'Bradley', 'Bradley Beach', 'Braintree', 'Branchburg', 'Branchburg Township', 'Branchville', 'Brandon', 'Branford', 'Brant', 'Brantingham', 'Brasher Falls', 'Brattleboro', 'Breezy Point', 'Bremen', 'Brentwood', 'Brewer', 'Brewerton', 'Brewster', 'Briarcliff Manor', 'Briarwood', 'Brick', 'Brick Township', 'Bridgehampton', 'Bridgeport', 'Bridgeton', 'Bridgewater', 'Bridgewater Twp', 'Bridgton', 'Bridport', 'Brielle', 'Brigantine', 'Brigantine City', 'Brighton', 'Brighton Beach', 'Brightwaters', 'Brimfield', 'Bristol', 'Broad Channel', 'Broadalbin', 'Broadalbin Village', 'Brockport', 'Brockton', 'Brocton', 'Bronx', 'Bronxville', 'Brookfield', 'Brookhaven', 'Brookhaven Hamlet', 'Brooklawn', 'Brooklin', 'Brookline', 'Brooklyn', 'Brooklyn Heights', 'Brooklyn Ny 11220', 'Brooks', 'Brooksville', 'Brookton', 'Brooktondale', 'Brookville', 'Broomall', 'Broome', 'Browndale', 'Brownfield', 'Brownington', 'Browns Mills', 'Brownville', 'Brunswick', 'Brushton', 'Bryn Mawr', 'Buchanan', 'Buckfield', 'Buckland', 'Bucksport', 'Budd Lake', 'Buena', 'Buena Vista', 'Buena Vista Township', 'Buffalo', 'Bullville', 'Burdett', 'Burke', 'Burleigh', 'Burlingham', 'Burlington', 'Burlington City', 'Burlington Flats', 'Burlington Township', 'Burnham', 'Burrillville', 'Burt', 'Bushkill', 'Bushwick', 'Butler', 'Butternuts', 'Buxton', 'Buzzards Bay', 'Byram Township', 'Byron', 'Cabo Rojo', 'Cabot', 'Cadyville', 'Caguas', 'Cairo', 'Calais', 'Calcium', 'Caldwell', 'Caldwell Boro Township', 'Caledonia', 'Califon', 'Callicoon', 'Callicoon Center', 'Calverton', 'Cambria Heights', 'Cambridge', 'Cambridge Village', 'Camden', 'Camillus', 'Campbell Hall', 'Campton', 'Camuy', 'Canaan', 'Canajoharie', 'Canajoharie Village', 'Canarsie', 'Canastota', 'Candia', 'Candor', 'Caneadea', 'Canovanas', 'Canterbury', 'Canton', 'Cape Charles', 'Cape Elizabeth', 'Cape May', 'Cape May Beach', 'Cape May Court House', 'Cape May Point', 'Cape Vincent', 'Caratunk', 'Caribou', 'Carle Place', 'Carlisle', 'Carlstadt', 'Carmel', 'Carmel Hamlet', 'Carneys Point', 'Caroga', 'Caroga Lake', 'Carolina', 'Carrabassett Valley', 'Carroll', 'Carroll Plt', 'Carrying Place Town Township', 'Carteret', 'Carthage', 'Carver', 'Carversville', 'Cary Plt', 'Casco', 'Cassville', 'Castile', 'Castine', 'Castle Creek', 'Castle Hill', 'Castle Mountain Ln', 'Castleton', 'Castleton On Hudson', 'Castorland', 'Caswell', 'Catano', 'Cataumet', 'Cathance Township', 'Cato', 'Catskill', 'Catskill Village', 'Cattaraugus', 'Cavendish', 'Cayey', 'Cayuga', 'Cayuta', 'Cazenovia', 'Cedar Grove', 'Cedarhurst', 'Cedarville', 'Ceiba', 'Center Moriches', 'Centereach', 'Centerport', 'Centerville', 'Central Bridge', 'Central Falls', 'Central Islip', 'Central Square', 'Central Valley', 'Centre Island', 'Chadds Ford', 'Chadwicks', 'Chaffee', 'Champlain', 'Chaplin', 'Chapman', 'Chappaqua', 'Charlemont', 'Charleston', 'Charlestown', 'Charlotte', 'Charlotteville', 'Charlton', 'Chase Mills', 'Chateaugay', 'Chatham', 'Chatham Township', 'Chatham Village', 'Chatsworth', 'Chaumont', 'Chazy', 'Chebeague Island', 'Cheektowaga', 'Chelmsford', 'Chelsea', 'Cheltenham', 'Chemung', 'Chenango Bridge', 'Chenango Forks', 'Cherry Creek', 'Cherry Grove', 'Cherry Hill', 'Cherry Hill Township', 'Cherry Valley', 'Cherryfield', 'Cheshire', 'Chesilhurst', 'Chester', 'Chester Heights', 'Chester Township', 'Chester Twp', 'Chesterfield', 'Chestertown', 'Chesterville', 'Chestnut Ridge', 'Cheyney', 'Chichester', 'Chicopee', 'Childwold', 'Chilmark', 'China', 'Chincoteague', 'Chittenango', 'Chittenden', 'Christiansted', 'Churchville', 'Churubusco', 'Ciales', 'Cicero', 'Cidra', 'Cincinnatus', 'Cinnaminson', 'Circleville', 'City Line', 'City of Orange Township', 'Claremont', 'Clarence', 'Clarence Center', 'Clarendon', 'Clark', 'Clark Mills', 'Clarksboro', 'Clarksburg', 'Clarksville', 'Claryville', 'Claverack', 'Clay', 'Claymont', 'Clayton', 'Clayville', 'Clementon', 'Clermont', 'Cleveland', 'Clifford', 'Clifford Township', 'Cliffside Park', 'Cliffwood', 'Cliffwood Beach', 'Clifton', 'Clifton Heights', 'Clifton Park', 'Clinton', 'Clinton Corners', 'Clinton Township', 'Clintondale', 'Clintonville', 'Closter', 'Clyde', 'Coamo', 'Cobleskill', 'Cochecton', 'Cody', 'Coeymans', 'Cohasset', 'Cohoes', 'Colchester', 'Cold Brook', 'Cold Spg Hbr', 'Cold Spring', 'Cold Spring Hrbr', 'Colden', 'Colebrook', 'Colesville', 'College Point', 'Collingdale', 'Collingswood', 'Collins', 'Colonia', 'Colonie', 'Colonie Village', 'Colrain', 'Colton', 'Colts Neck', 'Columbia', 'Columbia Cross Roads', 'Columbia Falls', 'Columbus', 'Comerio', 'Commack', 'Concord', 'Concord Township', 'Condado', 'Conesville', 'Congers', 'Conklin', 'Connor Township', 'Conshohocken', 'Constable', 'Constableville', 'Constantia', 'Conway', 'Cookstown', 'Cooper', 'Cooperstown', 'Copake', 'Copake Falls', 'Copenhagen', 'Copiague', 'Coplin Plt', 'Coram', 'Corbin City', 'Corfu', 'Corinna', 'Corinth', 'Corinth Village', 'Cornish', 'Cornville', 'Cornwall', 'Cornwall On Hudson', 'Cornwallville', 'Corona', 'Corozal', 'Cortland', 'Cortlandt Manor', 'Cortlandville', 'Cos Cob', 'Cottekill', 'Cotuit', 'Cove Neck', 'Coventry', 'Cowlesville', 'Coxsackie', 'Coxsackie Village', 'Craftsbury', 'Cragsmoor', 'Cranberry Isles', 'Cranberry Lake', 'Cranbury', 'Cranford', 'Cranston', 'Craryville', 'Crawford', 'Cream Ridge', 'Cresskill', 'Croghan', 'Crompond', 'Cromwell', 'Cross Lake Township', 'Cross River', 'Crosswicks', 'Croton Falls', 'Croton On Hudson', 'Crown Heights', 'Crown Point', 'Croydon', 'Crum Lynne', 'Crystal', 'Cuba', 'Cuddebackville', 'Culebra', 'Cumberland', 'Cummaquid', 'Cummington', 'Cushing', 'Cutchogue', 'Cutler', 'Cuyler', 'Dallas Plt', 'Dalton', 'Damariscotta', 'Damascus', 'Danbury', 'Danby', 'Danforth', 'Dannemora', 'Danube', 'Danvers', 'Danville', 'Darby', 'Darien', 'Darien Center', 'Dartmouth', 'Davenport', 'Davis Park', 'Day', 'Dayton', 'De Peyster', 'DeKalb Junction', 'DeRuyter', 'Deal', 'Deansboro', 'Decatur', 'Dedham', 'Deep River', 'Deepwater', 'Deer Isle', 'Deer Park', 'Deerfield', 'Deering', 'Deferiet', 'Del Haven', 'Delancey', 'Delanco', 'Delanson', 'Delaware', 'Delaware City', 'Delaware Township', 'Delaware Water Gap', 'Delevan', 'Delhi', 'Delmont', 'Delran', 'Demarest', 'Denmark', 'Dennis', 'Dennis Port', 'Dennis Township', 'Dennisville', 'Dennysville', 'Denver', 'Denville', 'Depauville', 'Depew', 'Deposit', 'Deptford', 'Deptford Township', 'Derby', 'Derry', 'Detroit', 'Devens', 'Devon', 'Devonshire', 'Dexter', 'Diamond Beach', 'Diana', 'Dickinson', 'Dickinson Center', 'Dighton', 'Dingmans Ferry', 'Dix Hills', 'Dixfield', 'Dixmont', 'Dobbs Ferry', 'Dolgeville', 'Dorado', 'Dorchester', 'Dorothy', 'Dorset', 'Douglas', 'Douglaston', 'Dover', 'Dover Foxcroft', 'Dover Plains', 'Downsville', 'Doylestown', 'Dracut', 'Dresden', 'Dresher', 'Drexel Hill', 'Dryden', 'Duane', 'Duanesburg', 'Dublin', 'Dudley', 'Dummer', 'Dummerston', 'Dumont', 'Dunbarton', 'Dunellen', 'Dunellen Borough', 'Dunkirk', 'Dunstable', 'Durham', 'Durhamville', 'Duxbury', 'Dyer Brook', 'Dyker Heights', 'Eagle Bay', 'Eagle Lake', 'Eagleswood Township', 'Eagleville', 'Earlton', 'Earlville', 'East Amherst', 'East Amwell', 'East Amwell Township', 'East Atlantic Beach', 'East Aurora', 'East Bangor', 'East Bethany', 'East Boston', 'East Branch', 'East Branch Ny', 'East Bridgewater', 'East Brookfield', 'East Brunswick', 'East Chatham', 'East Concord', 'East Dennis', 'East Durham', 'East Elmhurst', 'East Falmouth', 'East Farmingdale', 'East Fishkill', 'East Flatbush', 'East Granby', 'East Greenbush', 'East Greenwich', 'East Greenwich Township', 'East Haddam', 'East Hampton', 'East Hanover', 'East Hartford', 'East Harwich', 'East Haven', 'East Hills', 'East Islip', 'East Jewett', 'East Kingston', 'East Longmeadow', 'East Lyme', 'East Machias', 'East Marion', 'East Meadow', 'East Meredith', 'East Millinocket', 'East Montpelier', 'East Moriches', 'East Moxie Township', 'East Nassau', 'East New York', 'East Newark', 'East Northport', 'East Norwich', 'East Orange', 'East Otto', 'East Patchogue', 'East Providence', 'East Quogue', 'East Rockaway', 'East Rutherford', 'East Sandwich', 'East Setauket', 'East Stroudsburg', 'East Syracuse', 'East Vineland', 'East Wareham', 'East Williston', 'East Windsor', 'Eastampton', 'Eastbrook', 'Eastchester', 'Eastford', 'Eastham', 'Easthampton', 'Easton', 'Eastport', 'Eaton', 'Eatontown', 'Ebeemee Township', 'Eddington', 'Eddystone', 'Eden', 'Edgartown', 'Edgecomb', 'Edgemere', 'Edgewater', 'Edgewater Park', 'Edinburg', 'Edison', 'Edmeston', 'Edmunds Township', 'Edwards', 'Effingham', 'Egg Harbor', 'Egg Harbor City', 'Egg Harbor Township', 'Eggertsville', 'Egremont', 'Elba', 'Elberon', 'Elbridge', 'Eldora', 'Eldred', 'Eleanor Ct', 'Eliot', 'Elizabeth', 'Elizabeth City', 'Elizabethtown', 'Elizaville', 'Elk Township', 'Elka Park', 'Elkins Park', 'Ellenburg', 'Ellenburg Center', 'Ellenburg Depot', 'Ellenville', 'Ellicottville', 'Ellington', 'Elliottsville Township', 'Ellisburg', 'Ellsworth', 'Elma', 'Elmer', 'Elmhurst', 'Elmira', 'Elmont', 'Elmore', 'Elmsford', 'Elmwood Park', 'Elsmere', 'Embden', 'Emerson', 'Endicott', 'Endwell', 'Enfield', 'Englewood', 'Englewood Cliffs', 'Englishtown', 'Enosburg Falls', 'Ephratah', 'Epping', 'Epsom', 'Equinunk', 'Erdenheim', 'Erial', 'Erieville', 'Erin', 'Erma', 'Errol', 'Erving', 'Erwinna', 'Esopus', 'Esperance', 'Essex', 'Essex Fells', 'Essington', 'Estell Manor', 'Etna', 'Eustis', 'Evans Mills', 'Everett', 'Evesham', 'Ewing', 'Ewing Township', 'Exeter', 'Fabius', 'Fair Haven', 'Fair Lawn', 'Fairfax', 'Fairfield', 'Fairfield Twp', 'Fairhaven', 'Fairlee', 'Fairless Hills', 'Fairton', 'Fairview', 'Fajardo', 'Falconer', 'Fall River', 'Fallsburg', 'Falmouth', 'Fanwood', 'Far Hills', 'Far Rockaway', 'Farmersville Station', 'Farmingdale', 'Farmington', 'Farmingville', 'Fayette', 'Fayetteville', 'Fayston', 'Feasterville Trevose', 'Fenton', 'Fenway', 'Ferndale', 'Ferrisburgh', 'Fieldsboro', 'Fillmore', 'Fine', 'Fineview', 'Fire Island Pine', 'Fire Island Pines', 'Fishers Landing', 'Fishkill', 'Fitchburg', 'Fitzwilliam', 'Flagstaff Township', 'Flanders', 'Flatbush', 'Flatlands', 'Fleischmanns', 'Flemington', 'Fletcher', 'Fletchers Landing Township', 'Floral Park', 'Florence', 'Florham Park', 'Florida', 'Flourtown', 'Floyd', 'Flushing', 'Fly Creek', 'Folcroft', 'Folsom', 'Fonda', 'Fords', 'Forest City', 'Forest City Township', 'Forest Hills', 'Forestburgh', 'Forestdale', 'Forestport', 'Forestville', 'Forked River', 'Fort Ann', 'Fort Covington', 'Fort Edward', 'Fort Edward Village', 'Fort Fairfield', 'Fort Johnson', 'Fort Kent', 'Fort Lee', 'Fort Montgomery', 'Fort Plain', 'Fort Salonga', 'Fort Washington', 'Fortescue', 'Foster', 'Foxboro', 'Framingham', 'Framington', 'Francestown', 'Franconia', 'Frankford Township', 'Frankfort', 'Franklin', 'Franklin Lakes', 'Franklin Park', 'Franklin Square', 'Franklin Township', 'Franklin Twp', 'Franklinville', 'Frederiksted', 'Fredon', 'Fredon Township', 'Freedom', 'Freehold', 'Freeman Township', 'Freeport', 'Freetown', 'Freeville', 'Frelinghuysen', 'Fremont', 'Fremont Center', 'Frenchboro', 'Frenchtown', 'Frenchville', 'Frendale', 'Fresh Meadows', 'Frewsburg', 'Friendship', 'Friendsville', 'Frye Island', 'Fryeburg', 'Fulton', 'Fultonville', 'Furlong', 'Gabriels', 'Gainesville', 'Galen', 'Gallatin', 'Galloway', 'Galloway Township', 'Galway', 'Galway Village', 'Garden City', 'Garden City Park', 'Garden City South', 'Gardiner', 'Gardner', 'Garfield', 'Garland', 'Garnerville', 'Garnet Valley', 'Garrison', 'Garwood', 'Gasport', 'Geneva', 'Genoa', 'Georgetown', 'Georgia', 'German Flatts', 'Germantown', 'Gerritsen Beach', 'Gerry', 'Getzville', 'Ghent', 'Gibbsboro', 'Gibbstown', 'Gilbertsville', 'Gilboa', 'Gilead', 'Gilford', 'Gilgo Beach', 'Gill', 'Gillett', 'Gilmanton', 'Gilsum', 'Gladwyne', 'Glasco', 'Glassboro', 'Glastonbury', 'Glen', 'Glen Aubrey', 'Glen Cove', 'Glen Gardner', 'Glen Head', 'Glen Mills', 'Glen Oaks', 'Glen Park', 'Glen Riddle', 'Glen Ridge', 'Glen Ridge Boro Township', 'Glen Rock', 'Glen Spey', 'Glenburn', 'Glendale', 'Glendora', 'Glenfield', 'Glenford', 'Glenham', 'Glenolden', 'Glens Falls', 'Glenside', 'Glenville', 'Glenwood', 'Glenwood Landing', 'Glenwood Plt', 'Glocester', 'Gloucester', 'Gloucester City', 'Gloucester Township', 'Glover', 'Gloversville', 'Godeffroy', 'Goffstown', 'Goldens Bridge', 'Gorham', 'Goshen', 'Gouldsboro', 'Gouverneur', 'Gowanda', 'Gowanus', 'Grafton', 'Grahamsville', 'Granby', 'Grand Falls Township', 'Grand Island', 'Grand Isle', 'Grand Lake Stream', 'Grand Lake Stream Plt', 'Granite Springs', 'Grantham', 'Granville', 'Granville Village', 'Grassy Sound', 'Gravesend', 'Gray', 'Great Barrington', 'Great Bend', 'Great Neck', 'Great Neck Plaza', 'Great Pond', 'Great River', 'Great Valley', 'Greeley', 'Green Brook', 'Green Creek', 'Green Island', 'Green Island Village', 'Green Township', 'Greenbush', 'Greene', 'Greenfield', 'Greenfield Park', 'Greenfield Township', 'Greenlaw Chopping Twp', 'Greenlawn', 'Greenpoint', 'Greenport', 'Greensboro', 'Greenvale', 'Greenvile Center', 'Greenville', 'Greenwich', 'Greenwich Township', 'Greenwood', 'Greenwood Lake', 'Grenloch', 'Grindstone Twp', 'Griswold', 'Groton', 'Groveland', 'Guanica', 'Guayama', 'Guayanilla', 'Guaynabo', 'Guilderland', 'Guildhall', 'Guilford', 'Gulph Mills', 'Gurabo', 'Guttenberg', 'Hackensack', 'Hackettstown', 'Haddam', 'Haddon Heights', 'Haddon Township', 'Haddonfield', 'Hadley', 'Hagaman', 'Hague', 'Haines Falls', 'Hainesport', 'Halcott Center', 'Haledon', 'Hales Location', 'Halesite', 'Halfmoon', 'Halifax', 'Hallowell', 'Hallstead', 'Hamburg', 'Hamden', 'Hamilton', 'Hamilton Square', 'Hamilton Township', 'Hamlin', 'Hammond', 'Hammonton', 'Hampden', 'Hampstead', 'Hampton', 'Hampton Bays', 'Hampton Falls', 'Hancock', 'Hancocks Bridge', 'Hankins', 'Hannacroix', 'Hannawa Falls', 'Hannibal', 'Hanover', 'Hanover Township', 'Hanover Twp', 'Hanson', 'Hardenburgh', 'Harding Township', 'Hardwick', 'Hardwick Twp', 'Hardyston', 'Harford', 'Harmony', 'Harmony Township', 'Harpersfield', 'Harpswell', 'Harpursville', 'Harrietstown', 'Harriman', 'Harrington', 'Harrington Park', 'Harris', 'Harrison', 'Harrisville', 'Hartford', 'Hartland', 'Hartsdale', 'Hartwick', 'Harvard', 'Harvey Cedars', 'Harwich', 'Harwich Port', 'Harwinton', 'Hasbrouck Heights', 'Hastings', 'Hastings On Hudson', 'Hatfield', 'Hatillo', 'Hato Rey', 'Hauppauge', 'Haverford', 'Haverhill', 'Haverstraw', 'Havertown', 'Hawley', 'Haworth', 'Hawthorne', 'Haynesville', 'Hazlet', 'Hazlet Township', 'Head of Harbor', 'Hebron', 'Hector', 'Heislerville', 'Helena', 'Helmetta', 'Hempstead', 'Henderson', 'Henderson Harbor', 'Henniker', 'Hensonville', 'Herkimer', 'Hermon', 'Hersey', 'Herseytown Township', 'Heuvelton', 'Hewlett', 'Hewlett Bay Park', 'Hewlett Harbor', 'Hicksville', 'High Bridge', 'High Falls', 'Highgate', 'Highland', 'Highland Falls', 'Highland Lake', 'Highland Mills', 'Highland Park', 'Highlands', 'Hightstown', 'Hill', 'Hillburn', 'Hillcrest', 'Hills Rd', 'Hillsborough', 'Hillsborough Twp', 'Hillsdale', 'Hillside', 'Hinckley', 'Hinesburg', 'Hingham', 'Hinsdale', 'Hiram', 'Ho Ho Kus', 'Hobart', 'Hoboken', 'Hockessin', 'Hodgdon', 'Hoffmeister', 'Holbrook', 'Holden', 'Holderness', 'Holland', 'Holland Patent', 'Holland Township', 'Holley', 'Hollis', 'Hollis Center', 'Hollis Hills', 'Holliston', 'Holliswood', 'Holmdel', 'Holmes', 'Holtsville', 'Holyoke', 'Homer', 'Honesdale', 'Hooksett', 'Hoosick', 'Hoosick Falls', 'Hopatcong', 'Hope', 'Hopedale', 'Hopelawn', 'Hopewell', 'Hopewell Junction', 'Hopewell Township', 'Hopkinton', 'Horicon', 'Hormigueros', 'Hortontown Rd', 'Hortonville', 'Houghton', 'Houlton', 'Howard Beach', 'Howell', 'Howland', 'Hubbardston', 'Hubbardsville', 'Hubbardton', 'Hudson', 'Hudson Falls', 'Huguenot', 'Hull', 'Hulmeville', 'Humacao', 'Hunt', 'Hunter', 'Hunter Village', 'Huntingdon Valley', 'Huntingtn Sta', 'Huntington', 'Huntington Bay', 'Huntington Sta', 'Huntington Station', 'Hurley', 'Hurleyville', 'Hyannis', 'Hyannis Port', 'Hyde Park', 'Ilion', 'Independence Township', 'Indian Lake', 'Industry', 'Inlet', 'Inside', 'Interlaken', 'Inwood', 'Ipswich', 'Irasburg', 'Irving', 'Irvington', 'Isabela', 'Ischua', 'Iselin', 'Isla Verde', 'Island Falls', 'Island Heights', 'Island Park', 'Islandia', 'Isle Au Haut', 'Isle La Motte', 'Islesboro', 'Islip', 'Islip Terrace', 'Ithaca', 'Jackman', 'Jackson', 'Jackson Heights', 'Jaffrey', 'Jamaica', 'Jamaica Estates', 'Jamaica Plain', 'Jamaica South', 'Jamesburg', 'Jamesport', 'Jamestown', 'Jamesville', 'Java Center', 'Jay', 'Jayuya', 'Jefferson', 'Jefferson City', 'Jefferson Township', 'Jefferson Valley', 'Jeffersonville', 'Jenkintown', 'Jericho', 'Jersey City', 'Jewett', 'Jobstown', 'Johnsburg', 'Johnson', 'Johnson City', 'Johnsonville', 'Johnston', 'Johnstown', 'Jonesboro', 'Jonesport', 'Jordan', 'Juana Diaz', 'Juliustown', 'Juncos', 'Katonah', 'Kattskill Bay', 'Kauneonga Lake', 'Keansburg', 'Kearny', 'Keasbey', 'Keene', 'Keeseville', 'Kendall Park', 'Kenduskeag', 'Kenilworth', 'Kenmore', 'Kennebunk', 'Kennebunkport', 'Kennedy', 'Kennett Square', 'Kenoza Lake', 'Kensington', 'Kent', 'Kent Lakes', 'Kerhonkson', 'Kew Garden Hills', 'Kew Gardens', 'Kew Gardens Hills', 'Keyport', 'Kiamesha Lake', 'Killingly', 'Killington', 'Killingworth', 'Kinderhook', 'Kineo Township', 'King Ferry', 'Kingfield', 'Kingman Township', 'Kings Park', 'Kingsbury', 'Kingsbury Plt', 'Kingshill', 'Kingston', 'Kingwood', 'Kingwood Township', 'Kinnelon', 'Kirby', 'Kirkville', 'Kirkwood', 'Kittery', 'Knowlesville', 'Knowlton', 'Knox', 'Knoxboro', 'Kortright', 'La Fargeville', 'La Fayette', 'Lacey', 'Lacey Township', 'Lackawanna', 'Lackawaxen', 'Lacona', 'Laconia', 'Lafayette', 'Lafayette Hill', 'Lagrange', 'Lagrangeville', 'Lajas', 'Lake Clear', 'Lake Como', 'Lake George', 'Lake George Village', 'Lake Grove', 'Lake Hill', 'Lake Huntington', 'Lake Katrine', 'Lake Luzerne', 'Lake Peekskill', 'Lake Placid', 'Lake Pleasant', 'Lake Ronkonkoma', 'Lake Success', 'Lake View Plt', 'Lakehurst', 'Lakeview', 'Lakeville', 'Lakewood', 'Lambertville', 'Lamoine', 'Lancaster', 'Landenberg', 'Landgrove', 'Landing', 'Landisville', 'Lanesboro', 'Lanesborough', 'Lanesville', 'Langdon', 'Langhorne', 'Lanoka Harbor', 'Lansdowne', 'Lansing', 'Laporte', 'Larchmont', 'Lares', 'Las Marias', 'Las Piedras', 'Lattingtown', 'Laurel', 'Laurel Hollow', 'Laurel Springs', 'Laureldale', 'Laurelton', 'Laurence Harbor', 'Laurens', 'Lavallette', 'Lawnside', 'Lawrence', 'Lawrence Township', 'Lawrenceville', 'Lawton', 'Lawtons', 'Le Raysville', 'Le Roy', 'Lebanon', 'Ledgewood', 'Ledyard', 'Lee', 'Lee Center', 'Leeds', 'Leesburg', 'Lehman', 'Leicester', 'Lemington', 'Lempster', 'Lenox', 'Leominster', 'Leonardo', 'Leonardsville', 'Leonia', 'Levant', 'Leverett', 'Levittown', 'Lewes', 'Lewis', 'Lewisboro', 'Lewiston', 'Lexington', 'Lexington Dr', 'Lexington Township', 'Leyden', 'Liberty', 'Liberty Corner', 'Liberty Township', 'Lido Beach', 'Limerick', 'Limestone', 'Limington', 'Lincoln', 'Lincoln Park', 'Lincoln Plt', 'Lincolndale', 'Lincolnton', 'Lincolnville', 'Lincroft', 'Linden', 'Lindenhurst', 'Lindenwold', 'Lindenwood Howard Beach', 'Linneus', 'Linwood', 'Lisbon', 'Lisle', 'Litchfield', 'Little Compton', 'Little Egg Harbor', 'Little Egg Harbor Township', 'Little Falls', 'Little Ferry', 'Little Meadows', 'Little Neck', 'Little Silver', 'Little Valley', 'Little York', 'Littleton', 'Livermore', 'Livermore Falls', 'Liverpool', 'Livingston', 'Livingston Manor', 'Lloyd Harbor', 'Lloyd Neck', 'Loch Arbour Village', 'Loch Sheldrake', 'Locke', 'Lockport', 'Lockwood', 'Locust', 'Locust Valley', 'Lodi', 'Loiza', 'Londonderry', 'Long Beach', 'Long Beach Township', 'Long Branch', 'Long Eddy', 'Long Hill Township', 'Long Island City', 'Long Lake', 'Long Valley', 'Longmeadow', 'Longport', 'Loon Lake', 'Lopatcong', 'Lords Valley', 'Lorraine', 'Loudon', 'Louisville', 'Lovell', 'Lowell', 'Lower Mt Bethel Township', 'Lower Township', 'Lowman', 'Lowville', 'Lubec', 'Ludlow', 'Lumberton', 'Lumberton Township', 'Lumberville', 'Lunenburg', 'Luquillo', 'Lyman', 'Lyme', 'Lynbrook', 'Lyndeborough', 'Lyndhurst', 'Lyndon', 'Lyndonville', 'Lynn', 'Lynnfield', 'Lyon Mountain', 'Lyons', 'Lyons Falls', 'Lysander', 'Machias', 'Machiasport', 'Macwahoc Plt', 'Madawaska', 'Madawaska Lake Township', 'Madbury', 'Madison', 'Madrid', 'Madrid Twp', 'Magnolia', 'Mahopac', 'Mahwah', 'Maine', 'Malaga', 'Malba', 'Malden', 'Malden Bridge', 'Malden On Hudson', 'Malone', 'Malta', 'Malvern', 'Malverne', 'Mamakating', 'Mamaroneck', 'Manahawkin', 'Manalapan', 'Manasquan', 'Manati', 'Manatí', 'Manchester', 'Manchester Township', 'Manhasset', 'Manhasset Hills', 'Manhattan', 'Manlius', 'Mannsville', 'Manorhaven', 'Manorville', 'Mansfield', 'Mantoloking', 'Mantua', 'Manville', 'Maple Glen', 'Maple Shade', 'Mapleton', 'Maplewood', 'Marathon', 'Marblehead', 'Marbletown', 'Marcellus', 'Marcus Hook', 'Marcy', 'Margaretville', 'Margate', 'Margate City', 'Mariaville', 'Maricao', 'Marietta', 'Marilla', 'Marion', 'Marion Township', 'Marlboro', 'Marlboro Township', 'Marlborough', 'Marlow', 'Marlton', 'Marmora', 'Mars Hill', 'Marshfield', 'Marstons Mills', 'Martinsburg', 'Maryland', 'Masardis', 'Mashpee', 'Mason', 'Masonville', 'Maspeth', 'Massapequa', 'Massapequa Park', 'Massena', 'Mastic', 'Mastic Beach', 'Matamoras', 'Matawan', 'Matinecock', 'Matinicus Isle Plt', 'Mattapoisett', 'Mattawamkeag', 'Mattituck', 'Mattydale', 'Maunabo', 'Mauricetown', 'Maxfield', 'Mayaguez', 'Maybrook', 'Mayfield', 'Mayfield Village', 'Maynard', 'Mays Landing', 'Maywood', 'McCormick', 'McDonough', 'McGraw', 'McLean', 'Mechanic Falls', 'Mechanicville', 'Meddybemps', 'Medfield', 'Medford', 'Medford Lakes', 'Media', 'Medina', 'Medusa', 'Medway', 'Melrose', 'Melville', 'Memphis', 'Menands', 'Mendham', 'Mendham Township', 'Mendon', 'Menlo Park Terrace', 'Mercer', 'Mercerville', 'Merchantville', 'Meredith', 'Meridale', 'Meriden', 'Merion Station', 'Merrick', 'Merrill', 'Merrillsville', 'Merrimac', 'Merrimack', 'Methuen', 'Metuchen', 'Mexico', 'Mickleton', 'Middle Grove', 'Middle Island', 'Middle Smithfield Township', 'Middle Township', 'Middle Village', 'Middleboro', 'Middleburgh', 'Middleburgh Village', 'Middlebury', 'Middlefield', 'Middleport', 'Middlesex', 'Middleton', 'Middletown', 'Middletown Springs', 'Middletown Township', 'Middleville', 'Midland Park', 'Midtown', 'Milan', 'Milanville', 'Milbridge', 'Milford', 'Mill Neck', 'Millbrook', 'Millburn', 'Millbury', 'Miller Place', 'Millerton', 'Millinocket', 'Millis', 'Millsfield', 'Millstone', 'Millstone Township', 'Milltown', 'Millville', 'Millwood', 'Milmay', 'Milmont Park', 'Milo', 'Milroy', 'Milton', 'Milton Township', 'Minden', 'Mine Hill', 'Mineola', 'Minerva', 'Minetto', 'Mineville', 'Minoa', 'Minot', 'Minotola', 'Misery Township', 'Mizpah', 'Moca', 'Modena', 'Mohawk', 'Mohegan Lake', 'Moira', 'Molunkus Township', 'Mongaup Valley', 'Monhegan Island Plt', 'Monkton', 'Monmouth', 'Monmouth Beach', 'Monmouth Junction', 'Monroe', 'Monroe Township', 'Monroeville', 'Monsey', 'Monson', 'Mont Vernon', 'Montague', 'Montauk', 'Montclair', 'Montebello', 'Monterey', 'Montezuma', 'Montgomery', 'Montgomery Twp', 'Monticello', 'Montpelier', 'Montrose', 'Montvale', 'Montville', 'Montville Township', 'Monument Beach', 'Mooers', 'Mooers Forks', 'Moonachie', 'Moorestown', 'Moosehead Junction Township', 'Moravia', 'Moreau', 'Morehouse', 'Moretown', 'Morgan', 'Morganville', 'Moriah', 'Moriah Center', 'Moriches', 'Morovis', 'Morrill', 'Morris', 'Morris Plains', 'Morris Plains Boroug', 'Morris Township', 'Morris Twp', 'Morrisonville', 'Morristown', 'Morrisville', 'Morton', 'Moscow', 'Moultonborough', 'Mount Arlington', 'Mount Bethel', 'Mount Chase', 'Mount Desert', 'Mount Ephraim', 'Mount Holly', 'Mount Kisco', 'Mount Laurel', 'Mount Marion', 'Mount Morris', 'Mount Olive Township', 'Mount Pleasant', 'Mount Royal', 'Mount Sinai', 'Mount Tabor', 'Mount Tremper', 'Mount Vernon', 'Mount Vision', 'Mount Washington', 'Mountain Dale', 'Mountain Lakes', 'Mountain View', 'Mountainside', 'Mountainville', 'Mullica', 'Mullica Hill', 'Mumford', 'Munnsville', 'Murray Isle', 'Muttontown', 'Mystic', 'Mystic Island', 'Naguabo', 'Nahant', 'Nanticoke', 'Nantucket', 'Nanuet', 'Napanoch', 'Naples', 'Naranjito', 'Narberth', 'Narragansett', 'Narrowsburg', 'Nashua', 'Nassau', 'Nassau Village', 'Natick', 'National Park', 'Natural Bridge', 'Naugatuck', 'Navesink', 'Nedrow', 'Needham', 'Nelliston', 'Nelson', 'Neponsit', 'Neptune', 'Neptune City', 'Neptune Township', 'Nesconset', 'Netcong', 'Neversink', 'New Ashford', 'New Baltimore', 'New Bedford', 'New Berlin', 'New Boston', 'New Braintree', 'New Britain', 'New Brunswick', 'New Canaan', 'New Canada', 'New Castle', 'New City', 'New Durham', 'New Egypt', 'New Fairfield', 'New Gloucester', 'New Gretna', 'New Hamburg', 'New Hampshire 03457', 'New Hampton', 'New Hartford', 'New Haven', 'New Hope', 'New Hyde Park', 'New Ipswich', 'New Jersey', 'New Kingston', 'New Lebanon', 'New Limerick', 'New Lisbon', 'New London', 'New Marlboro', 'New Marlborough', 'New Milford', 'New Monmouth', 'New Paltz', 'New Portland', 'New Providence', 'New Rochelle', 'New Salem', 'New Scotland', 'New Seabury', 'New Sharon', 'New Suffolk', 'New Sweden', 'New Vineyard', 'New Windsor', 'New Woodstock', 'New York', 'New York City', 'New York Mills', 'Newark', 'Newark Valley', 'Newburgh', 'Newbury', 'Newburyport', 'Newcastle', 'Newcomb', 'Newfane', 'Newfield', 'Newfields', 'Newington', 'Newmarket', 'Newport', 'Newport City', 'Newry', 'Newton', 'Newtonville', 'Newtown', 'Newtown Square', 'Nichols', 'Nicholville', 'Nineveh', 'Niskayuna', 'Nissequogue', 'Niverville', 'Nobleboro', 'Norfolk', 'Normandy Beach', 'Norridgewock', 'North Adams', 'North Andover', 'North Arlington', 'North Attleboro', 'North Babylon', 'North Baldwin', 'North Bangor', 'North Bellmore', 'North Bergen', 'North Berwick', 'North Branch', 'North Branford', 'North Brookfield', 'North Brunswick', 'North Brunswick Township', 'North Caldwell', 'North Canaan', 'North Cape May', 'North Chatham', 'North Collins', 'North Eastham', 'North Elba', 'North Falmouth', 'North Great River', 'North Greenbush', 'North Haledon', 'North Hampton', 'North Haven', 'North Hero', 'North Hills', 'North Hudson', 'North Kingstown', 'North Lawrence', 'North Massapequa', 'North Middletown', 'North New Hyde Park', 'North Norwich', 'North Plainfield', 'North Providence', 'North Reading', 'North Rose', 'North Salem', 'North Smithfield', 'North Stonington', 'North Syracuse', 'North Tonawanda', 'North Truro', 'North Valley Stream', 'North Wildwood', 'North Woodmere', 'North Yarmouth', 'Northampton', 'Northborough', 'Northbridge', 'Northeast', 'Northeast Carry', 'Northeast Carry Township', 'Northfield', 'Northport', 'Northumberland', 'Northvale', 'Northville', 'Northwood', 'Norton', 'Norwalk', 'Norway', 'Norwell', 'Norwich', 'Norwood', 'Nottingham', 'Nunda', 'Nutley', 'Ny', 'Nyack', 'Nyc', 'Oak Beach', 'Oak Bluffs', 'Oak Island', 'Oakdale', 'Oakfield', 'Oakham', 'Oakhurst', 'Oakland', 'Oakland Gardens', 'Oaklyn', 'Ocean Bay Park', 'Ocean Beach', 'Ocean City', 'Ocean Gate', 'Ocean Grove', 'Ocean Hill', 'Ocean Township', 'Ocean View', 'Oceanport', 'Oceanside', 'Odessa', 'Ogdensburg', 'Ogunquit', 'Ohio', 'Olcott', 'Old Bethpage', 'Old Bridge', 'Old Bridge Township', 'Old Brookville', 'Old Chatham', 'Old Field', 'Old Forge', 'Old Greenwich', 'Old Lyme', 'Old Mill Basin', 'Old Orchard Beach', 'Old San Juan', 'Old Saybrook', 'Old Tappan', 'Old Town', 'Old Westbury', 'Olive', 'Olivebridge', 'Onchiota', 'Oneida', 'Oneonta', 'Onset', 'Oppenheim', 'Oradell', 'Orange', 'Orangeburg', 'Orchard Park', 'Oreland', 'Orford', 'Orient', 'Oriskany', 'Oriskany Falls', 'Orland', 'Orleans', 'Orneville Township', 'Orocovis', 'Orono', 'Orrington', 'Ortley Beach', 'Orwell', 'Ossining', 'Ossipee', 'Osterville', 'Oswegatchie', 'Oswego', 'Otego', 'Otis', 'Otisfield', 'Otisville', 'Otsego', 'Otselic', 'Otter Lake', 'Oueens', 'Out Nj', 'Ovid', 'Owasco', 'Owego', 'Owls Head', 'Oxford', 'Oyster Bay', 'Oyster Bay Cove', 'Ozone Park', 'Palatine Bridge', 'Palenville', 'Palermo', 'Palisades', 'Palisades Park', 'Palmer', 'Palmer Rd', 'Palmyra', 'Panton', 'Paoli', 'Par Troy Hills Township', 'Paramus', 'Paris', 'Parish', 'Parishville', 'Park Ridge', 'Parkertown Township', 'Parkman', 'Parksville', 'Parlin', 'Parsippany Troy Hills', 'Parsippany Troy Hills Township', 'Parsonsfield', 'Passadumkeag', 'Passaic', 'Patchogue', 'Paterson', 'Patillas', 'Patten', 'Patterson', 'Paul Smiths', 'Paulsboro', 'Pavilion', 'Pawlet', 'Pawling', 'Pawtucket', 'Paxton', 'Peabody', 'Peacham', 'Peapack Gladstone Boro', 'Pearl River', 'Peconic', 'Pedricktown', 'Peekskill', 'Pelham', 'Pemberton', 'Pembroke', 'Penn Valley', 'Penn Yan', 'Pennellville', 'Pennington', 'Penns Grove', 'Pennsauken', 'Pennsville', 'Penobscot', 'Penuelas', 'Pepperell', 'Pequannock', 'Pequannock Township', 'Perham', 'Perkins Township', 'Perrineville', 'Perry', 'Perrysburg', 'Perth', 'Perth Amboy', 'Peru', 'Peterborough', 'Petersburg', 'Petersburgh', 'Petersham', 'Pharsalia', 'Phelps', 'Philadelphia', 'Phillips', 'Phillipsburg', 'Phillipston', 'Philmont', 'Phippsburg', 'Phoenicia', 'Phoenix', 'Piercefield', 'Piermont', 'Pike County', 'Pilesgrove', 'Pine Beach', 'Pine Bush', 'Pine Hill', 'Pine Island', 'Pine Plains', 'Pipersville', 'Piscataway', 'Piscataway Twp', 'Piseco', 'Pitcher', 'Pitman', 'Pittsburg', 'Pittsfield', 'Pittsford', 'Pittsgrove', 'Pittston', 'Pittstown', 'Plainfield', 'Plainsboro', 'Plainview', 'Plainville', 'Plaistow', 'Plattekill', 'Plattsburgh', 'Pleasant Mount', 'Pleasant Ridge Plt', 'Pleasant Valley', 'Pleasantville', 'Plessis', 'Plumsted', 'Plymouth', 'Plymouth Meeting', 'Plympton', 'Pocasset', 'Poestenkill', 'Pohatcong Township', 'Point Jefferson Sta', 'Point Jefferson Vil', 'Point Lookout', 'Point Pleasant', 'Point Pleasant Beach', 'Point Pleasant Boro', 'Poland', 'Pomfret', 'Pomona', 'Pompey', 'Pompton Lakes', 'Ponce', 'Pond Eddy', 'Popponesset', 'Popponesset Island', 'Port Byron', 'Port Chester', 'Port Crane', 'Port Elizabeth', 'Port Ewen', 'Port Henry', 'Port Jefferson', 'Port Jefferson Station', 'Port Jervis', 'Port Kent', 'Port Leyden', 'Port Monmouth', 'Port Murray', 'Port Norris', 'Port Penn', 'Port Reading', 'Port Republic', 'Port Washington', 'Portage Lake', 'Portageville', 'Porter', 'Portland', 'Portsmouth', 'Potsdam', 'Pottersville', 'Poughkeepsie', 'Poughquag', 'Poultney', 'Pound Ridge', 'Pownal', 'Prattsville', 'Preble', 'Prentiss Township T7 R3 Nbpp', 'Presque Isle', 'Preston', 'Preston Hollow', 'Preston Park', 'Primos', 'Princeton', 'Princeton Junction', 'Princeton Township', 'Princetown', 'Proctor', 'Prompton', 'Prosp Leff Gdns', 'Prospect', 'Prospect Park', 'Providence', 'Provincetown', 'Pulaski', 'Purchase', 'Purdys', 'Purling', 'Putnam', 'Putnam Station', 'Putnam Valley', 'Putney', 'Quebradillas', 'Queens', 'Queens Village', 'Queens Village Jamaica', 'Queens Village North', 'Queensbury', 'Quincy', 'Quinton', 'Quiogue', 'Quogue', 'Radnor', 'Rahway', 'Rainbow Lake', 'Ramsey', 'Rancocas', 'Randolph', 'Rangeley', 'Rangeley Plt', 'Ransomville', 'Raquette Lake', 'Raritan', 'Ravena', 'Ray Brook', 'Raymond', 'Raynham', 'Readfield', 'Reading', 'Readington', 'Readington Twp', 'Readsboro', 'Red Bank', 'Red Creek', 'Red Hook', 'Redding', 'Redfield', 'Redford', 'Redwood', 'Rego Park', 'Rehoboth', 'Rehoboth Beach', 'Remsen', 'Remsen Village', 'Remsenburg', 'Rensselaer', 'Rensselaer Falls', 'Rensselaerville', 'Revere', 'Rexford', 'Rhinebeck', 'Rhinecliff', 'Richboro', 'Richfield', 'Richfield Springs', 'Richford', 'Richland', 'Richmond', 'Richmond Hill', 'Richmond Hill South', 'Richmondville', 'Richmondville Village', 'Richville', 'Ridge', 'Ridge Dr', 'Ridgefield', 'Ridgefield Park', 'Ridgefield Park Village', 'Ridgewood', 'Ridgewood Village', 'Ridley Park', 'Riegelsville', 'Rifton', 'Rincon', 'Rindge', 'Ringoes', 'Ringwood', 'Rio Grande', 'Rio Piedras', 'Ripley', 'Ripton', 'River Edge', 'River Vale', 'Riverdale', 'Riverhead', 'Riverside', 'Riverton', 'Robbinston', 'Robbinsville', 'Rochdale Village', 'Rochelle Park', 'Rochester', 'Rock Hill', 'Rock Tavern', 'Rockaway', 'Rockaway Beach', 'Rockaway Boro', 'Rockaway Park', 'Rockingham', 'Rockland', 'Rockledge', 'Rockleigh', 'Rockport', 'Rockville Centre', 'Rockwood T1 R1 Nbkp', 'Rocky Hill', 'Rocky Point', 'Roebling', 'Rollinsford', 'Rome', 'Romulus', 'Ronkonkoma', 'Roosevelt', 'Roosevelt Island', 'Root', 'Roque Bluffs', 'Roscoe', 'Rose Valley', 'Roseboom', 'Rosedale', 'Roseland', 'Roselle', 'Roselle Park', 'Rosendale', 'Roslindale', 'Roslyn', 'Roslyn Estates', 'Roslyn Harbor', 'Roslyn Heights', 'Rotterdam', 'Round Lake', 'Round Top', 'Rouses Point', 'Route 189', 'Rowe', 'Rowland', 'Rowley', 'Roxbury', 'Roxbury Township', 'Royalston', 'Royalton', 'Ruby', 'Rumford', 'Rumney', 'Rumson', 'Runnemede', 'Rupert', 'Rushford', 'Russell', 'Russia', 'Rutherford', 'Rutland', 'Rutland Town', 'Rydal', 'Rye', 'Rye Brook', 'Ryegate', 'Sabana Grande', 'Sabana Hoyos', 'Sabattus', 'Sackets Harbor', 'Saco', 'Saddle Brook', 'Saddle River', 'Sag Harbor', 'Sagamore Beach', 'Sagaponack', 'Saint Agatha', 'Saint Albans', 'Saint Albans City', 'Saint Albans Town', 'Saint Armand', 'Saint Francis', 'Saint George', 'Saint James', 'Saint John', 'Saint John Plt', 'Saint Johnsbury', 'Saint Johnsville', 'Saint Johnsville Village', 'Saint Regis Falls', 'Saint Thomas', 'Salamanca', 'Salem', 'Salem Township', 'Salinas', 'Salisbury', 'Salisbury Center', 'Salisbury Mills', 'Salt Point', 'Samsonville', 'San German', 'San Juan', 'San Lorenzo', 'San Sebastian', 'Sanborn', 'Sanbornton', 'Sand Lake', 'Sandgate', 'Sandisfield', 'Sandown', 'Sands Point', 'Sandwich', 'Sandy Creek', 'Sandy River Plt', 'Sandyston', 'Sanford', 'Sanford Ny', 'Sangerfield', 'Sangerville', 'Sanitaria Springs', 'Santa Clara', 'Santa Isabel', 'Santurce', 'Saranac', 'Saranac Inn', 'Saranac Lake', 'Saratoga', 'Saratoga Springs', 'Sarine Rd', 'Saugerties', 'Saugus', 'Sauquoit', 'Savannah', 'Savoy', 'Sayre', 'Sayreville', 'Sayville', 'Scarborough', 'Scarsdale', 'Schaghticoke', 'Schenectady', 'Schenevus', 'Schodack Landing', 'Schoharie', 'Schroeppel', 'Schroon Lake', 'Schuyler', 'Schuyler Falls', 'Schuylerville', 'Scituate', 'Scotch Plains', 'Scotia', 'Scotland', 'Scott Township', 'Scriba', 'Sea Bright', 'Sea Cliff', 'Sea Girt', 'Sea Isle City', 'Seabrook', 'Seaford', 'Seaport', 'Searingtown', 'Searsburg', 'Searsmont', 'Searsport', 'Seaside Heights', 'Seaside Park', 'Seaville', 'Sebago', 'Sebec', 'Secane', 'Secaucus', 'Sedgwick', 'Seekonk', 'Selden', 'Selkirk', 'Seneca Falls', 'Setauket', 'Seward', 'Sewaren', 'Sewell', 'Seymour', 'Shady', 'Shaftsbury', 'Shamong', 'Shamong Township', 'Shandaken', 'Shapleigh', 'Sharon', 'Sharon Hill', 'Sharon Springs', 'Sheepshead Bay', 'Sheffield', 'Shelburne', 'Sheldon', 'Shelter Island', 'Shelter Island Heights', 'Shelton', 'Sherborn', 'Sherburne', 'Sherman', 'Sherrill', 'Shiloh', 'Shinnecock Hills', 'Ship Bottom', 'Shirley', 'Shohola', 'Shokan', 'Shoreham', 'Shrewsbury', 'Shrewsbury Township', 'Shrub Oak', 'Shushan', 'Shutesbury', 'Siasconset', 'Sicklerville', 'Sidney', 'Sidney Center', 'Silver Creek', 'Silver Ridge Township', 'Silver Springs', 'Simsbury', 'Sinclair', 'Skaneateles', 'Skillman', 'Skowhegan', 'Slate Hill', 'Slaterville Springs', 'Sleepy Hollow', 'Sloan', 'Sloansville', 'Sloatsburg', 'Smallwood', 'Smithfield', 'Smithtown', 'Smithville', 'Smithville Flats', 'Smyrna', 'Smyrna Mills', 'Sodus', 'Sodus Point', 'Solebury', 'Solon', 'Solvay', 'Somerdale', 'Somers', 'Somers Point', 'Somerset', 'Somersworth', 'Somerville', 'Sorrento', 'Sound Beach', 'South Amboy', 'South Berwick', 'South Boston', 'South Bound Brook', 'South Bristol', 'South Brunswick', 'South Burlington', 'South Byron', 'South Cairo', 'South Chatham', 'South Cheektowaga', 'South Colton', 'South Dayton', 'South Dennis', 'South End', 'South Fallsburg', 'South Floral Park', 'South Gibson', 'South Glens Falls', 'South Hackensack', 'South Hadley', 'South Hampton', 'South Harrison Township', 'South Hempstead', 'South Hero', 'South Huntington', 'South Jamesport', 'South Kingstown', 'South New Berlin', 'South Orange', 'South Orange Village', 'South Orange Village Township', 'South Otselic', 'South Ozone', 'South Ozone Park', 'South Plainfield', 'South Portland', 'South Richmond Hill', 'South River', 'South Salem', 'South Seaside Park', 'South Seaville', 'South Setauket', 'South Thomaston', 'South Wales', 'South Windsor', 'South Yarmouth', 'Southampton', 'Southborough', 'Southbridge', 'Southbury', 'Southfields', 'Southington', 'Southold', 'Southport', 'Southwest Harbor', 'Southwick', 'Sparkill', 'Sparrow Bush', 'Sparta', 'Speculator', 'Spencer', 'Spencertown', 'Speonk', 'Spisak Rd', 'Spotswood', 'Sprague', 'Sprakers', 'Spring Lake', 'Spring Lake Heights', 'Spring Valley', 'Springfield', 'Springfield Center', 'Springfield Gardens', 'Springvale', 'Springville', 'Staatsburg', 'Stacyville', 'Stafford', 'Stafford Springs', 'Stafford Township', 'Stamford', 'Standish', 'Stanford', 'Stanfordville', 'Stanhope', 'Stannard', 'Star Lake', 'Stark', 'Starks', 'Starksboro', 'Starlight', 'Starrucca', 'Staten Island', 'Steam Mill Rd', 'Stephentown', 'Sterling', 'Stetson', 'Stetsontown Township', 'Steuben', 'Stewart Manor', 'Stewartstown', 'Stewartsville', 'Stillwater', 'Stillwater Village', 'Stittville', 'Stockbridge', 'Stockport', 'Stockton', 'Stockton Springs', 'Stoddard', 'Stone Harbor', 'Stone Ridge', 'Stoneham', 'Stonington', 'Stony Brook', 'Stony Creek', 'Stony Point', 'Stormville', 'Storrs', 'Stoughton', 'Stow', 'Stowe', 'Strafford', 'Stratford', 'Stratham', 'Strathmere', 'Stratton', 'Strong', 'Stroud Township', 'Stroudsburg', 'Strykersville', 'Sturbridge', 'Stuyvesant', 'Stuyvesant Hts', 'Sudbury', 'Suffern', 'Suffield', 'Sugar Hill', 'Sugar Loaf', 'Sullivan', 'Summit', 'Sumner', 'Sunapee', 'Sunderland', 'Sundown', 'Sunnyside', 'Sunset Park', 'Surf City', 'Surry', 'Susquehanna', 'Sussex', 'Sutton', 'Swain', 'Swainton', 'Swampscott', 'Swan Lake', 'Swans Island', 'Swansea', 'Swanton', 'Swanville', 'Swanzey', 'Swarthmore', 'Sweden', 'Swedesboro', 'Sweetwater', 'Sylvan Beach', 'Syosset', 'Syracuse', 'T1 R9 Wels', 'T10 Sd', 'T11 R4 Wels', 'T13 R8 Wels', 'T3 Indian Purchase Township', 'T3 R1 Nbpp', 'T3 R12 Wels', 'T3 R4 Bkp Wkr', 'T3 R9 Nwp', 'T5 R7 Wels', 'T6 R1 Nbpp', 'T8 R7 Wels', 'Ta R2 Wels', 'Taberg', 'Tabernacle', 'Taghkanic', 'Tallman', 'Tamiment', 'Tamworth', 'Tannersville', 'Tappan', 'Tarrytown', 'Taunton', 'Taylor', 'Teaneck', 'Teaticket', 'Temple', 'Templeton', 'Tenafly', 'Tewksbury', 'Tewksbury Township', 'Thendara', 'Theresa', 'Thetford', 'Thiells', 'Thomaston', 'Thompson', 'Thompson Ridge', 'Thorndike', 'Thornton', 'Thornwood', 'Thorofare', 'Three Mile Bay', 'Thurman', 'Ticonderoga', 'Tillson', 'Tilton', 'Tinmouth', 'Tinton Falls', 'Tioga', 'Tioga Center', 'Tisbury', 'Titusville', 'Tiverton', 'Tivoli', 'Toa Alta', 'Toa Baja', 'Tolland', 'Tomhegan Twp', 'Tomkins Cove', 'Tompkins', 'Toms River', 'Toms River Township', 'Tonawanda', 'Topsfield', 'Topsham', 'Torrey', 'Torrington', 'Totowa', 'Totowa Boro', 'Toughkenamon', 'Town of Webb', 'Townbank', 'Townsend', 'Townshend', 'Township Of Washington', 'Tremont', 'Trenton', 'Trescott Township', 'Trevose', 'Triangle', 'Tribes Hill', 'Trout Creek', 'Troy', 'Trujillo Alto', 'Trumansburg', 'Trumbull', 'Truro', 'Truxton', 'Tuckahoe', 'Tuckerton', 'Tuftonboro', 'Tully', 'Tunbridge', 'Tupper Lake', 'Turin', 'Turner', 'Turnersville', 'Tusten', 'Tuxedo Park', 'Tyler Hill', 'Tyngsborough', 'Tyringham', 'Ulster', 'Ulster Park', 'Ulysses', 'Unadilla', 'Uncasville', 'Underhill', 'Union', 'Union Beach', 'Union City', 'Union Dale', 'Union Springs', 'Union Twp', 'Uniondale', 'Unionville', 'Unity', 'Upper Brookville', 'Upper Chichester', 'Upper Darby', 'Upper Deerfield Township', 'Upper Enchanted Township', 'Upper Freehold', 'Upper Holland', 'Upper Jay', 'Upper Mt Bethel Township', 'Upper Saddle River', 'Upper Saint Regis', 'Upper Township', 'Upton', 'Utica', 'Utuado', 'Uxbridge', 'Valatie', 'Valhalla', 'Valley Cottage', 'Valley Falls', 'Valley Stream', 'Van Buren', 'Van Etten', 'Vandling', 'Varysburg', 'Vassalboro', 'Veazie', 'Vega Alta', 'Vega Baja', 'Venice Center', 'Ventnor', 'Ventnor City', 'Ventnor Heights', 'Verbank', 'Vergennes', 'Vermontville', 'Vernon', 'Vernon Center', 'Verona', 'Verona Beach', 'Verona Island', 'Verplanck', 'Vershire', 'Vestal', 'Victory', 'Victory Gardens', 'Vienna', 'Vieques', 'Villalba', 'Villanova', 'Villas', 'Villenova', 'Vinalhaven', 'Vincentown', 'Vineland', 'Vineyard Haven', 'Virgil', 'Vl Chick Rd Darien Center', 'Vl Corner Tinkham', 'Volney', 'Voluntown', 'Voorhees', 'Voorhees Township', 'Voorheesville', 'Waccabuc', 'Waddington', 'Wade', 'Wading River', 'Wainscott', 'Waite', 'Waitsfield', 'Wakefield', 'Walden', 'Waldoboro', 'Waldwick', 'Wales', 'Wales Center', 'Walker Valley', 'Wall', 'Wall Township', 'Wallagrass', 'Wallingford', 'Wallington', 'Wallkill', 'Walpole', 'Waltham', 'Walton', 'Wampsville', 'Wanaque', 'Wantage', 'Wantage Township', 'Wantagh', 'Wappingers Falls', 'Wardsboro', 'Ware', 'Wareham', 'Waretown', 'Warner', 'Warners', 'Warren', 'Warren Center', 'Warren Gore', 'Warren Twp', 'Warrensburg', 'Warsaw', 'Warwick', 'Washburn', 'Washington', 'Washington Crossing', 'Washington Township', 'Washingtonville', 'Wassaic', 'Watchung', 'Water Island', 'Water Mill', 'Waterboro', 'Waterbury', 'Waterford', 'Waterford Township', 'Waterford Village', 'Waterford Works', 'Waterfront', 'Waterloo', 'Watermill', 'Waterport', 'Watertown', 'Waterville', 'Waterville Valley', 'Watervliet', 'Waverly', 'Wawarsing', 'Wayland', 'Waymart', 'Wayne', 'Weare', 'Weathersfield', 'Webster', 'Weedsport', 'Weehawken', 'Weekstown', 'Weld', 'Wellesley', 'Wellesley Island', 'Wellfleet', 'Wellington', 'Wells', 'Wells Ny', 'Wells River', 'Wellsburg', 'Wendell', 'Wenham', 'Wenonah', 'Wentworth', 'Wesley', 'West Allenhurst', 'West Amwell', 'West Atlantic City', 'West Babylon', 'West Barnstable', 'West Bath', 'West Belmar', 'West Berlin', 'West Boylston', 'West Bridgewater', 'West Brookfield', 'West Burlington', 'West Caldwell', 'West Cape May', 'West Chatham', 'West Chazy', 'West Chester', 'West Collingswood', 'West Collingswood Heights', 'West Conshohocken', 'West Coxsackie', 'West Creek', 'West Dennis', 'West Deptford', 'West Edmeston', 'West Fairlee', 'West Falls', 'West Falmouth', 'West Fulton', 'West Gardiner', 'West Greenwich', 'West Harrison', 'West Hartford', 'West Harwich', 'West Haven', 'West Haverstraw', 'West Hempstead', 'West Hurley', 'West Islip', 'West Kill', 'West Leyden', 'West Long Branch', 'West Milford', 'West Monroe', 'West New York', 'West Newbury', 'West Nyack', 'West Orange', 'West Paris', 'West Park', 'West Rutland', 'West Sayville', 'West Seneca', 'West Shokan', 'West Springfield', 'West Stockbridge', 'West Tisbury', 'West Valley', 'West Wareham', 'West Warwick', 'West Wildwood', 'West Windsor', 'West Winfield', 'West Yarmouth', 'Westampton', 'Westborough', 'Westbrook', 'Westbrookville', 'Westbury', 'Westchester', 'Westchester County', 'Westerlo', 'Westerly', 'Westernville', 'Westfield', 'Westford', 'Westhampton', 'Westhampton Bch', 'Westhampton Beach', 'Westhampton Dunes', 'Westmanland', 'Westminster', 'Westmont', 'Westmore', 'Westmoreland', 'Weston', 'Westport', 'Westport Island', 'Westtown', 'Westville', 'Westwood', 'Wethersfield', 'Weybridge', 'Weymouth', 'Wharton', 'Whately', 'Wheatley Heights', 'Wheelock', 'White Creek', 'White Lake', 'White Plains', 'White Sulphur Springs', 'White Township', 'Whitefield', 'Whitehall', 'Whitehall Village', 'Whitehouse Station', 'Whitesboro', 'Whitestone', 'Whiting', 'Whitingham', 'Whitman', 'Whitney Point', 'Whitneyville', 'Wilbraham', 'Wildwood', 'Wildwood Crest', 'Wildwood Way', 'Willet', 'Williambridge', 'Williams Township', 'Williamsburg', 'Williamsburg Township', 'Williamstown', 'Williamsville', 'Willingboro', 'Willington', 'Williston', 'Williston Park', 'Willow', 'Willow Grove', 'Willsboro', 'Willseyville', 'Wilmington', 'Wilmot', 'Wilson', 'Wilton', 'Winchendon', 'Winchester', 'Windham', 'Windsor', 'Windsor Locks', 'Wingdale', 'Winhall', 'Winn', 'Winooski', 'Winslow', 'Winslow Township', 'Winter Harbor', 'Winterport', 'Winterville Plt', 'Winthrop', 'Wiscasset', 'Witherbee', 'Woburn', 'Wolcott', 'Wolfeboro', 'Wood Ridge', 'Woodbine', 'Woodbourne', 'Woodbridge', 'Woodbridge Proper', 'Woodbury', 'Woodbury Heights', 'Woodcliff Lake', 'Woodford', 'Woodgate', 'Woodhaven', 'Woodland', 'Woodland Park', 'Woodlyn', 'Woodlynne', 'Woodmere', 'Woodridge', 'Woods Hole', 'Woodsburgh', 'Woodside', 'Woodstock', 'Woodstown', 'Woodville', 'Woolwich', 'Woolwich Township', 'Woonsocket', 'Worcester', 'Worthington', 'Wrentham', 'Wright', 'Wrightstown', 'Wurtsboro', 'Wyalusing', 'Wyandanch', 'Wyckoff', 'Wyman Township', 'Wynantskill', 'Wyncote', 'Wyndmoor', 'Wynnewood', 'Wyoming', 'Wysox', 'Yabucoa', 'Yaphank', 'Yardley', 'Yarmouth', 'Yarmouth Port', 'Yauco', 'Yeadon', 'Yonkers', 'York', 'Yorkshire', 'Yorktown Heights', 'Yorkville', 'Youngstown', 'Youngsville', 'Yulan']\n"
     ]
    }
   ],
   "source": [
    "city_list=[]\n",
    "for city in city_dict:\n",
    "    if city not in city_list:\n",
    "        city_list.append(city)\n",
    "    else:\n",
    "        pass\n",
    "city_list.sort()\n",
    "print(city_list)"
   ]
  },
  {
   "cell_type": "code",
   "execution_count": 102,
   "metadata": {},
   "outputs": [
    {
     "data": {
      "text/plain": [
       "state\n",
       "New York          67159\n",
       "New Jersey        32601\n",
       "Connecticut       13753\n",
       "Massachusetts     10051\n",
       "Pennsylvania       9549\n",
       "Maine              4938\n",
       "New Hampshire      3431\n",
       "Rhode Island       3332\n",
       "Puerto Rico        2645\n",
       "Vermont            2544\n",
       "Delaware           1290\n",
       "Virgin Islands      730\n",
       "Virginia              7\n",
       "Georgia               5\n",
       "West Virginia         1\n",
       "Tennessee             1\n",
       "Wyoming               1\n",
       "South Carolina        1\n",
       "Louisiana             1\n",
       "Name: count, dtype: int64"
      ]
     },
     "execution_count": 102,
     "metadata": {},
     "output_type": "execute_result"
    }
   ],
   "source": [
    "df['state'].value_counts()"
   ]
  },
  {
   "cell_type": "code",
   "execution_count": 103,
   "metadata": {},
   "outputs": [],
   "source": [
    "Geographic_region = {\n",
    "    \"Northeast\": [\"Connecticut\", \"Maine\", \"Massachusetts\", \"New Hampshire\", \"New Jersey\", \"New York\", \"Pennsylvania\", \"Rhode Island\", \"Vermont\"],\n",
    "    \"Midwest\": [\"Illinois\", \"Indiana\", \"Iowa\", \"Kansas\", \"Michigan\", \"Minnesota\", \"Missouri\", \"Nebraska\", \"North Dakota\", \"Ohio\", \"South Dakota\", \"Wisconsin\"],\n",
    "    \"South\": [\"Alabama\", \"Arkansas\", \"Delaware\", \"District of Columbia\", \"Florida\", \"Georgia\", \"Kentucky\", \"Louisiana\", \"Maryland\", \"Mississippi\", \"North Carolina\", \"Oklahoma\", \"South Carolina\", \"Tennessee\", \"Texas\", \"Virginia\", \"West Virginia\"],\n",
    "    \"West\": [\"Alaska\", \"Arizona\", \"California\", \"Colorado\", \"Hawaii\", \"Idaho\", \"Montana\", \"Nevada\", \"New Mexico\", \"Oregon\", \"Utah\", \"Washington\", \"Wyoming\"],\n",
    "    \"Territories\": [\"American Samoa\", \"Guam\", \"the Northern Mariana Islands\", \"Puerto Rico\", \"Virgin Islands\"]\n",
    "}\n"
   ]
  },
  {
   "cell_type": "code",
   "execution_count": 104,
   "metadata": {},
   "outputs": [
    {
     "data": {
      "text/plain": [
       "{'Connecticut': 'Northeast',\n",
       " 'Maine': 'Northeast',\n",
       " 'Massachusetts': 'Northeast',\n",
       " 'New Hampshire': 'Northeast',\n",
       " 'New Jersey': 'Northeast',\n",
       " 'New York': 'Northeast',\n",
       " 'Pennsylvania': 'Northeast',\n",
       " 'Rhode Island': 'Northeast',\n",
       " 'Vermont': 'Northeast',\n",
       " 'Illinois': 'Midwest',\n",
       " 'Indiana': 'Midwest',\n",
       " 'Iowa': 'Midwest',\n",
       " 'Kansas': 'Midwest',\n",
       " 'Michigan': 'Midwest',\n",
       " 'Minnesota': 'Midwest',\n",
       " 'Missouri': 'Midwest',\n",
       " 'Nebraska': 'Midwest',\n",
       " 'North Dakota': 'Midwest',\n",
       " 'Ohio': 'Midwest',\n",
       " 'South Dakota': 'Midwest',\n",
       " 'Wisconsin': 'Midwest',\n",
       " 'Alabama': 'South',\n",
       " 'Arkansas': 'South',\n",
       " 'Delaware': 'South',\n",
       " 'District of Columbia': 'South',\n",
       " 'Florida': 'South',\n",
       " 'Georgia': 'South',\n",
       " 'Kentucky': 'South',\n",
       " 'Louisiana': 'South',\n",
       " 'Maryland': 'South',\n",
       " 'Mississippi': 'South',\n",
       " 'North Carolina': 'South',\n",
       " 'Oklahoma': 'South',\n",
       " 'South Carolina': 'South',\n",
       " 'Tennessee': 'South',\n",
       " 'Texas': 'South',\n",
       " 'Virginia': 'South',\n",
       " 'West Virginia': 'South',\n",
       " 'Alaska': 'West',\n",
       " 'Arizona': 'West',\n",
       " 'California': 'West',\n",
       " 'Colorado': 'West',\n",
       " 'Hawaii': 'West',\n",
       " 'Idaho': 'West',\n",
       " 'Montana': 'West',\n",
       " 'Nevada': 'West',\n",
       " 'New Mexico': 'West',\n",
       " 'Oregon': 'West',\n",
       " 'Utah': 'West',\n",
       " 'Washington': 'West',\n",
       " 'Wyoming': 'West',\n",
       " 'American Samoa': 'Territories',\n",
       " 'Guam': 'Territories',\n",
       " 'the Northern Mariana Islands': 'Territories',\n",
       " 'Puerto Rico': 'Territories',\n",
       " 'Virgin Islands': 'Territories'}"
      ]
     },
     "execution_count": 104,
     "metadata": {},
     "output_type": "execute_result"
    }
   ],
   "source": [
    "state_to_region = {state: region for region, states in Geographic_region.items() for state in states}\n",
    "state_to_region"
   ]
  },
  {
   "cell_type": "code",
   "execution_count": 105,
   "metadata": {},
   "outputs": [],
   "source": [
    "df['region']=df['state'].map(state_to_region)"
   ]
  },
  {
   "cell_type": "code",
   "execution_count": 106,
   "metadata": {},
   "outputs": [
    {
     "data": {
      "text/html": [
       "<div>\n",
       "<style scoped>\n",
       "    .dataframe tbody tr th:only-of-type {\n",
       "        vertical-align: middle;\n",
       "    }\n",
       "\n",
       "    .dataframe tbody tr th {\n",
       "        vertical-align: top;\n",
       "    }\n",
       "\n",
       "    .dataframe thead th {\n",
       "        text-align: right;\n",
       "    }\n",
       "</style>\n",
       "<table border=\"1\" class=\"dataframe\">\n",
       "  <thead>\n",
       "    <tr style=\"text-align: right;\">\n",
       "      <th></th>\n",
       "      <th>status</th>\n",
       "      <th>bed</th>\n",
       "      <th>bath</th>\n",
       "      <th>acre_lot</th>\n",
       "      <th>city</th>\n",
       "      <th>state</th>\n",
       "      <th>zip_code</th>\n",
       "      <th>house_size</th>\n",
       "      <th>prev_sold_date</th>\n",
       "      <th>price</th>\n",
       "      <th>region</th>\n",
       "    </tr>\n",
       "  </thead>\n",
       "  <tbody>\n",
       "    <tr>\n",
       "      <th>0</th>\n",
       "      <td>for_sale</td>\n",
       "      <td>3.0</td>\n",
       "      <td>2.0</td>\n",
       "      <td>0.12</td>\n",
       "      <td>Adjuntas</td>\n",
       "      <td>Puerto Rico</td>\n",
       "      <td>601</td>\n",
       "      <td>920.0</td>\n",
       "      <td>NaT</td>\n",
       "      <td>105000.0</td>\n",
       "      <td>Territories</td>\n",
       "    </tr>\n",
       "    <tr>\n",
       "      <th>1</th>\n",
       "      <td>for_sale</td>\n",
       "      <td>4.0</td>\n",
       "      <td>2.0</td>\n",
       "      <td>0.08</td>\n",
       "      <td>Adjuntas</td>\n",
       "      <td>Puerto Rico</td>\n",
       "      <td>601</td>\n",
       "      <td>1527.0</td>\n",
       "      <td>NaT</td>\n",
       "      <td>80000.0</td>\n",
       "      <td>Territories</td>\n",
       "    </tr>\n",
       "    <tr>\n",
       "      <th>2</th>\n",
       "      <td>for_sale</td>\n",
       "      <td>2.0</td>\n",
       "      <td>1.0</td>\n",
       "      <td>0.15</td>\n",
       "      <td>Juana Diaz</td>\n",
       "      <td>Puerto Rico</td>\n",
       "      <td>795</td>\n",
       "      <td>748.0</td>\n",
       "      <td>NaT</td>\n",
       "      <td>67000.0</td>\n",
       "      <td>Territories</td>\n",
       "    </tr>\n",
       "    <tr>\n",
       "      <th>3</th>\n",
       "      <td>for_sale</td>\n",
       "      <td>4.0</td>\n",
       "      <td>2.0</td>\n",
       "      <td>0.10</td>\n",
       "      <td>Ponce</td>\n",
       "      <td>Puerto Rico</td>\n",
       "      <td>731</td>\n",
       "      <td>1800.0</td>\n",
       "      <td>NaT</td>\n",
       "      <td>145000.0</td>\n",
       "      <td>Territories</td>\n",
       "    </tr>\n",
       "    <tr>\n",
       "      <th>4</th>\n",
       "      <td>for_sale</td>\n",
       "      <td>6.0</td>\n",
       "      <td>2.0</td>\n",
       "      <td>0.05</td>\n",
       "      <td>Mayaguez</td>\n",
       "      <td>Puerto Rico</td>\n",
       "      <td>680</td>\n",
       "      <td>NaN</td>\n",
       "      <td>NaT</td>\n",
       "      <td>65000.0</td>\n",
       "      <td>Territories</td>\n",
       "    </tr>\n",
       "  </tbody>\n",
       "</table>\n",
       "</div>"
      ],
      "text/plain": [
       "     status  bed  bath  acre_lot        city        state zip_code  \\\n",
       "0  for_sale  3.0   2.0      0.12    Adjuntas  Puerto Rico      601   \n",
       "1  for_sale  4.0   2.0      0.08    Adjuntas  Puerto Rico      601   \n",
       "2  for_sale  2.0   1.0      0.15  Juana Diaz  Puerto Rico      795   \n",
       "3  for_sale  4.0   2.0      0.10       Ponce  Puerto Rico      731   \n",
       "4  for_sale  6.0   2.0      0.05    Mayaguez  Puerto Rico      680   \n",
       "\n",
       "   house_size prev_sold_date     price       region  \n",
       "0       920.0            NaT  105000.0  Territories  \n",
       "1      1527.0            NaT   80000.0  Territories  \n",
       "2       748.0            NaT   67000.0  Territories  \n",
       "3      1800.0            NaT  145000.0  Territories  \n",
       "4         NaN            NaT   65000.0  Territories  "
      ]
     },
     "execution_count": 106,
     "metadata": {},
     "output_type": "execute_result"
    }
   ],
   "source": [
    "df.head()"
   ]
  },
  {
   "cell_type": "code",
   "execution_count": 107,
   "metadata": {},
   "outputs": [],
   "source": [
    "df.drop(columns=['city', 'state'], inplace=True)"
   ]
  },
  {
   "cell_type": "code",
   "execution_count": 108,
   "metadata": {},
   "outputs": [
    {
     "name": "stdout",
     "output_type": "stream",
     "text": [
      "             status   house_size                \n",
      "              count         mean  median    mode\n",
      "region                                          \n",
      "Northeast    147358  2148.257242  1689.0  1200.0\n",
      "South          1306  2111.880435  1900.0  1200.0\n",
      "Territories    3375  2894.756491  1500.0  1000.0\n",
      "West              1  1935.000000  1935.0  1935.0\n"
     ]
    }
   ],
   "source": [
    "house_size_region = df.groupby('region').aggregate({'status':'count', 'house_size':['mean', 'median', pd.Series.mode]})\n",
    "print(house_size_region)"
   ]
  },
  {
   "cell_type": "code",
   "execution_count": 109,
   "metadata": {},
   "outputs": [
    {
     "name": "stdout",
     "output_type": "stream",
     "text": [
      "             status   acre_lot             \n",
      "              count       mean median  mode\n",
      "region                                     \n",
      "Northeast    147358  26.024248   0.29  0.11\n",
      "South          1306   2.291057   0.15  0.05\n",
      "Territories    3375  49.095632   0.29  0.08\n",
      "West              1   0.290000   0.29  0.29\n"
     ]
    }
   ],
   "source": [
    "acre_region = df.groupby('region').aggregate({'status':'count', 'acre_lot':['mean', 'median', pd.Series.mode]})\n",
    "print(acre_region)"
   ]
  },
  {
   "cell_type": "code",
   "execution_count": 110,
   "metadata": {},
   "outputs": [
    {
     "name": "stdout",
     "output_type": "stream",
     "text": [
      "                count           mean           std       min       25%  \\\n",
      "region                                                                   \n",
      "Northeast    147341.0  865940.425096  3.133396e+06       0.0  229900.0   \n",
      "South          1303.0  373083.561781  2.919539e+05   14900.0  200000.0   \n",
      "Territories    3375.0  711323.050963  1.872031e+06   15900.0   95000.0   \n",
      "West              1.0  535000.000000           NaN  535000.0  535000.0   \n",
      "\n",
      "                  50%       75%          max  \n",
      "region                                        \n",
      "Northeast    429900.0  795000.0  875000000.0  \n",
      "South        315000.0  474950.0    3950000.0  \n",
      "Territories  185000.0  499700.0   25000000.0  \n",
      "West         535000.0  535000.0     535000.0  \n"
     ]
    }
   ],
   "source": [
    "price_region = df.groupby('region')['price'].describe()\n",
    "print(price_region)"
   ]
  },
  {
   "cell_type": "code",
   "execution_count": 111,
   "metadata": {},
   "outputs": [
    {
     "name": "stdout",
     "output_type": "stream",
     "text": [
      "             status   house_size                  price             acre_lot  \\\n",
      "              count         mean  median           mean    median       mean   \n",
      "region                                                                         \n",
      "Northeast    147358  2148.257242  1689.0  865940.425096  429900.0  26.024248   \n",
      "South          1306  2111.880435  1900.0  373083.561781  315000.0   2.291057   \n",
      "Territories    3375  2894.756491  1500.0  711323.050963  185000.0  49.095632   \n",
      "West              1  1935.000000  1935.0  535000.000000  535000.0   0.290000   \n",
      "\n",
      "                    \n",
      "            median  \n",
      "region              \n",
      "Northeast     0.29  \n",
      "South         0.15  \n",
      "Territories   0.29  \n",
      "West          0.29  \n"
     ]
    }
   ],
   "source": [
    "result = df.groupby('region').aggregate({'status':'count', 'house_size':['mean', 'median'],'price':['mean','median'], 'acre_lot':['mean', 'median']})\n",
    "print(result)"
   ]
  },
  {
   "cell_type": "code",
   "execution_count": 112,
   "metadata": {},
   "outputs": [
    {
     "name": "stdout",
     "output_type": "stream",
     "text": [
      "           status   bed  bath  acre_lot zip_code  house_size prev_sold_date  \\\n",
      "0        for_sale   3.0   2.0      0.12      601       920.0            NaT   \n",
      "1        for_sale   4.0   2.0      0.08      601      1527.0            NaT   \n",
      "2        for_sale   2.0   1.0      0.15      795       748.0            NaT   \n",
      "3        for_sale   4.0   2.0      0.10      731      1800.0            NaT   \n",
      "4        for_sale   6.0   2.0      0.05      680         NaN            NaT   \n",
      "...           ...   ...   ...       ...      ...         ...            ...   \n",
      "1401002  for_sale   3.0   2.0      0.22    14739       532.0     2004-06-22   \n",
      "1401048  for_sale   1.0   1.0      0.25    14062       696.0            NaT   \n",
      "1401058  for_sale   3.0   2.0      3.00    14740      1568.0     1999-12-27   \n",
      "1401059  for_sale   5.0   2.0      0.55    14716      4260.0            NaT   \n",
      "1401063  for_sale  10.0   4.0      0.43    14716      4802.0     1994-12-01   \n",
      "\n",
      "            price       region     Month  Year  \n",
      "0        105000.0  Territories      None  None  \n",
      "1         80000.0  Territories      None  None  \n",
      "2         67000.0  Territories      None  None  \n",
      "3        145000.0  Territories      None  None  \n",
      "4         65000.0  Territories      None  None  \n",
      "...           ...          ...       ...   ...  \n",
      "1401002  118500.0    Northeast      June  2004  \n",
      "1401048  139000.0    Northeast      None  None  \n",
      "1401058  189900.0    Northeast  December  1999  \n",
      "1401059   95000.0    Northeast      None  None  \n",
      "1401063  120000.0    Northeast  December  1994  \n",
      "\n",
      "[152040 rows x 11 columns]\n"
     ]
    }
   ],
   "source": [
    "# Defining a function to get month\n",
    "def getMonth(DOJ):\n",
    "    if not pd.isna(DOJ):\n",
    "        return(DOJ.strftime('%B'))\n",
    " \n",
    "# Defining a function to get year\n",
    "def getYear(DOJ):\n",
    "    if not pd.isna(DOJ):\n",
    "        return(DOJ.strftime('%Y'))\n",
    " \n",
    "# Applying the month and year extractor functions\n",
    "df['Month']=df['prev_sold_date'].apply(getMonth)\n",
    "df['Year']=df['prev_sold_date'].apply(getYear)\n",
    "print(df)"
   ]
  },
  {
   "cell_type": "code",
   "execution_count": 113,
   "metadata": {},
   "outputs": [
    {
     "name": "stdout",
     "output_type": "stream",
     "text": [
      "status     for_sale\n",
      "Month              \n",
      "April          6171\n",
      "August         7489\n",
      "December       6859\n",
      "February       5304\n",
      "January        6021\n",
      "July           7520\n",
      "June           7134\n",
      "March          6075\n",
      "May            6515\n",
      "November       6364\n",
      "October        7152\n",
      "September      6815\n"
     ]
    }
   ],
   "source": [
    "sales_month = df.groupby('Month')['status'].value_counts().unstack().fillna(0)\n",
    "print(sales_month)"
   ]
  },
  {
   "cell_type": "code",
   "execution_count": 114,
   "metadata": {},
   "outputs": [],
   "source": [
    "sales_year = df.groupby('Year')['status'].value_counts().unstack().fillna(0)\n",
    "sales_dict=sales_year.to_dict()"
   ]
  },
  {
   "cell_type": "code",
   "execution_count": 115,
   "metadata": {},
   "outputs": [
    {
     "data": {
      "text/html": [
       "<div>\n",
       "<style scoped>\n",
       "    .dataframe tbody tr th:only-of-type {\n",
       "        vertical-align: middle;\n",
       "    }\n",
       "\n",
       "    .dataframe tbody tr th {\n",
       "        vertical-align: top;\n",
       "    }\n",
       "\n",
       "    .dataframe thead th {\n",
       "        text-align: right;\n",
       "    }\n",
       "</style>\n",
       "<table border=\"1\" class=\"dataframe\">\n",
       "  <thead>\n",
       "    <tr style=\"text-align: right;\">\n",
       "      <th></th>\n",
       "      <th>for_sale</th>\n",
       "    </tr>\n",
       "  </thead>\n",
       "  <tbody>\n",
       "    <tr>\n",
       "      <th>2021</th>\n",
       "      <td>5931</td>\n",
       "    </tr>\n",
       "    <tr>\n",
       "      <th>2018</th>\n",
       "      <td>4409</td>\n",
       "    </tr>\n",
       "    <tr>\n",
       "      <th>2017</th>\n",
       "      <td>4319</td>\n",
       "    </tr>\n",
       "    <tr>\n",
       "      <th>2019</th>\n",
       "      <td>4279</td>\n",
       "    </tr>\n",
       "    <tr>\n",
       "      <th>2016</th>\n",
       "      <td>3795</td>\n",
       "    </tr>\n",
       "    <tr>\n",
       "      <th>2020</th>\n",
       "      <td>3584</td>\n",
       "    </tr>\n",
       "    <tr>\n",
       "      <th>2005</th>\n",
       "      <td>3306</td>\n",
       "    </tr>\n",
       "    <tr>\n",
       "      <th>2015</th>\n",
       "      <td>3244</td>\n",
       "    </tr>\n",
       "    <tr>\n",
       "      <th>2006</th>\n",
       "      <td>3179</td>\n",
       "    </tr>\n",
       "    <tr>\n",
       "      <th>2007</th>\n",
       "      <td>2874</td>\n",
       "    </tr>\n",
       "    <tr>\n",
       "      <th>2014</th>\n",
       "      <td>2726</td>\n",
       "    </tr>\n",
       "    <tr>\n",
       "      <th>2004</th>\n",
       "      <td>2723</td>\n",
       "    </tr>\n",
       "    <tr>\n",
       "      <th>2013</th>\n",
       "      <td>2476</td>\n",
       "    </tr>\n",
       "    <tr>\n",
       "      <th>2022</th>\n",
       "      <td>2353</td>\n",
       "    </tr>\n",
       "    <tr>\n",
       "      <th>2008</th>\n",
       "      <td>2277</td>\n",
       "    </tr>\n",
       "    <tr>\n",
       "      <th>2012</th>\n",
       "      <td>1980</td>\n",
       "    </tr>\n",
       "    <tr>\n",
       "      <th>2003</th>\n",
       "      <td>1958</td>\n",
       "    </tr>\n",
       "    <tr>\n",
       "      <th>2010</th>\n",
       "      <td>1865</td>\n",
       "    </tr>\n",
       "    <tr>\n",
       "      <th>2009</th>\n",
       "      <td>1863</td>\n",
       "    </tr>\n",
       "    <tr>\n",
       "      <th>2002</th>\n",
       "      <td>1769</td>\n",
       "    </tr>\n",
       "    <tr>\n",
       "      <th>2011</th>\n",
       "      <td>1735</td>\n",
       "    </tr>\n",
       "    <tr>\n",
       "      <th>2001</th>\n",
       "      <td>1535</td>\n",
       "    </tr>\n",
       "    <tr>\n",
       "      <th>2000</th>\n",
       "      <td>1504</td>\n",
       "    </tr>\n",
       "    <tr>\n",
       "      <th>1999</th>\n",
       "      <td>1494</td>\n",
       "    </tr>\n",
       "    <tr>\n",
       "      <th>1998</th>\n",
       "      <td>1391</td>\n",
       "    </tr>\n",
       "    <tr>\n",
       "      <th>1997</th>\n",
       "      <td>1275</td>\n",
       "    </tr>\n",
       "    <tr>\n",
       "      <th>1996</th>\n",
       "      <td>1055</td>\n",
       "    </tr>\n",
       "    <tr>\n",
       "      <th>1994</th>\n",
       "      <td>970</td>\n",
       "    </tr>\n",
       "    <tr>\n",
       "      <th>1995</th>\n",
       "      <td>921</td>\n",
       "    </tr>\n",
       "    <tr>\n",
       "      <th>1993</th>\n",
       "      <td>841</td>\n",
       "    </tr>\n",
       "    <tr>\n",
       "      <th>1987</th>\n",
       "      <td>724</td>\n",
       "    </tr>\n",
       "    <tr>\n",
       "      <th>1992</th>\n",
       "      <td>683</td>\n",
       "    </tr>\n",
       "    <tr>\n",
       "      <th>1988</th>\n",
       "      <td>653</td>\n",
       "    </tr>\n",
       "    <tr>\n",
       "      <th>1990</th>\n",
       "      <td>598</td>\n",
       "    </tr>\n",
       "    <tr>\n",
       "      <th>1991</th>\n",
       "      <td>574</td>\n",
       "    </tr>\n",
       "    <tr>\n",
       "      <th>1989</th>\n",
       "      <td>560</td>\n",
       "    </tr>\n",
       "    <tr>\n",
       "      <th>1986</th>\n",
       "      <td>543</td>\n",
       "    </tr>\n",
       "    <tr>\n",
       "      <th>1985</th>\n",
       "      <td>343</td>\n",
       "    </tr>\n",
       "    <tr>\n",
       "      <th>1984</th>\n",
       "      <td>183</td>\n",
       "    </tr>\n",
       "    <tr>\n",
       "      <th>1983</th>\n",
       "      <td>145</td>\n",
       "    </tr>\n",
       "  </tbody>\n",
       "</table>\n",
       "</div>"
      ],
      "text/plain": [
       "      for_sale\n",
       "2021      5931\n",
       "2018      4409\n",
       "2017      4319\n",
       "2019      4279\n",
       "2016      3795\n",
       "2020      3584\n",
       "2005      3306\n",
       "2015      3244\n",
       "2006      3179\n",
       "2007      2874\n",
       "2014      2726\n",
       "2004      2723\n",
       "2013      2476\n",
       "2022      2353\n",
       "2008      2277\n",
       "2012      1980\n",
       "2003      1958\n",
       "2010      1865\n",
       "2009      1863\n",
       "2002      1769\n",
       "2011      1735\n",
       "2001      1535\n",
       "2000      1504\n",
       "1999      1494\n",
       "1998      1391\n",
       "1997      1275\n",
       "1996      1055\n",
       "1994       970\n",
       "1995       921\n",
       "1993       841\n",
       "1987       724\n",
       "1992       683\n",
       "1988       653\n",
       "1990       598\n",
       "1991       574\n",
       "1989       560\n",
       "1986       543\n",
       "1985       343\n",
       "1984       183\n",
       "1983       145"
      ]
     },
     "execution_count": 115,
     "metadata": {},
     "output_type": "execute_result"
    }
   ],
   "source": [
    "test_df=pd.DataFrame.from_dict(data=sales_dict)\n",
    "test_df.sort_values(by='for_sale', ascending=False, inplace=True)\n",
    "test_df.head(40)"
   ]
  },
  {
   "cell_type": "code",
   "execution_count": 116,
   "metadata": {},
   "outputs": [
    {
     "data": {
      "text/plain": [
       "\"\\nfor g in df.groupby(by = ['bath']):\\n    print(g[0])\\n    print(g[1]['bed'].mean())\\n\""
      ]
     },
     "execution_count": 116,
     "metadata": {},
     "output_type": "execute_result"
    }
   ],
   "source": [
    "'''\n",
    "for g in df.groupby(by = ['bath']):\n",
    "    print(g[0])\n",
    "    print(g[1]['bed'].mean())\n",
    "'''"
   ]
  },
  {
   "cell_type": "code",
   "execution_count": 120,
   "metadata": {},
   "outputs": [],
   "source": [
    "df.drop(columns=['Year', 'Month'], inplace=True)"
   ]
  },
  {
   "cell_type": "code",
   "execution_count": 121,
   "metadata": {},
   "outputs": [
    {
     "data": {
      "text/html": [
       "<div>\n",
       "<style scoped>\n",
       "    .dataframe tbody tr th:only-of-type {\n",
       "        vertical-align: middle;\n",
       "    }\n",
       "\n",
       "    .dataframe tbody tr th {\n",
       "        vertical-align: top;\n",
       "    }\n",
       "\n",
       "    .dataframe thead th {\n",
       "        text-align: right;\n",
       "    }\n",
       "</style>\n",
       "<table border=\"1\" class=\"dataframe\">\n",
       "  <thead>\n",
       "    <tr style=\"text-align: right;\">\n",
       "      <th></th>\n",
       "      <th>status</th>\n",
       "      <th>bed</th>\n",
       "      <th>bath</th>\n",
       "      <th>acre_lot</th>\n",
       "      <th>zip_code</th>\n",
       "      <th>house_size</th>\n",
       "      <th>prev_sold_date</th>\n",
       "      <th>price</th>\n",
       "      <th>region_Northeast</th>\n",
       "      <th>region_South</th>\n",
       "      <th>region_Territories</th>\n",
       "      <th>region_West</th>\n",
       "    </tr>\n",
       "  </thead>\n",
       "  <tbody>\n",
       "    <tr>\n",
       "      <th>0</th>\n",
       "      <td>for_sale</td>\n",
       "      <td>3.0</td>\n",
       "      <td>2.0</td>\n",
       "      <td>0.12</td>\n",
       "      <td>601</td>\n",
       "      <td>920.0</td>\n",
       "      <td>NaT</td>\n",
       "      <td>105000.0</td>\n",
       "      <td>False</td>\n",
       "      <td>False</td>\n",
       "      <td>True</td>\n",
       "      <td>False</td>\n",
       "    </tr>\n",
       "    <tr>\n",
       "      <th>1</th>\n",
       "      <td>for_sale</td>\n",
       "      <td>4.0</td>\n",
       "      <td>2.0</td>\n",
       "      <td>0.08</td>\n",
       "      <td>601</td>\n",
       "      <td>1527.0</td>\n",
       "      <td>NaT</td>\n",
       "      <td>80000.0</td>\n",
       "      <td>False</td>\n",
       "      <td>False</td>\n",
       "      <td>True</td>\n",
       "      <td>False</td>\n",
       "    </tr>\n",
       "    <tr>\n",
       "      <th>2</th>\n",
       "      <td>for_sale</td>\n",
       "      <td>2.0</td>\n",
       "      <td>1.0</td>\n",
       "      <td>0.15</td>\n",
       "      <td>795</td>\n",
       "      <td>748.0</td>\n",
       "      <td>NaT</td>\n",
       "      <td>67000.0</td>\n",
       "      <td>False</td>\n",
       "      <td>False</td>\n",
       "      <td>True</td>\n",
       "      <td>False</td>\n",
       "    </tr>\n",
       "    <tr>\n",
       "      <th>3</th>\n",
       "      <td>for_sale</td>\n",
       "      <td>4.0</td>\n",
       "      <td>2.0</td>\n",
       "      <td>0.10</td>\n",
       "      <td>731</td>\n",
       "      <td>1800.0</td>\n",
       "      <td>NaT</td>\n",
       "      <td>145000.0</td>\n",
       "      <td>False</td>\n",
       "      <td>False</td>\n",
       "      <td>True</td>\n",
       "      <td>False</td>\n",
       "    </tr>\n",
       "    <tr>\n",
       "      <th>4</th>\n",
       "      <td>for_sale</td>\n",
       "      <td>6.0</td>\n",
       "      <td>2.0</td>\n",
       "      <td>0.05</td>\n",
       "      <td>680</td>\n",
       "      <td>NaN</td>\n",
       "      <td>NaT</td>\n",
       "      <td>65000.0</td>\n",
       "      <td>False</td>\n",
       "      <td>False</td>\n",
       "      <td>True</td>\n",
       "      <td>False</td>\n",
       "    </tr>\n",
       "  </tbody>\n",
       "</table>\n",
       "</div>"
      ],
      "text/plain": [
       "     status  bed  bath  acre_lot zip_code  house_size prev_sold_date  \\\n",
       "0  for_sale  3.0   2.0      0.12      601       920.0            NaT   \n",
       "1  for_sale  4.0   2.0      0.08      601      1527.0            NaT   \n",
       "2  for_sale  2.0   1.0      0.15      795       748.0            NaT   \n",
       "3  for_sale  4.0   2.0      0.10      731      1800.0            NaT   \n",
       "4  for_sale  6.0   2.0      0.05      680         NaN            NaT   \n",
       "\n",
       "      price  region_Northeast  region_South  region_Territories  region_West  \n",
       "0  105000.0             False         False                True        False  \n",
       "1   80000.0             False         False                True        False  \n",
       "2   67000.0             False         False                True        False  \n",
       "3  145000.0             False         False                True        False  \n",
       "4   65000.0             False         False                True        False  "
      ]
     },
     "execution_count": 121,
     "metadata": {},
     "output_type": "execute_result"
    }
   ],
   "source": [
    "one_hot_encoded_data = pd.get_dummies(df, columns = ['region']) \n",
    "one_hot_encoded_data.head()"
   ]
  },
  {
   "cell_type": "code",
   "execution_count": 83,
   "metadata": {},
   "outputs": [
    {
     "data": {
      "text/plain": [
       "\"\\nfrom sklearn.preprocessing import OneHotEncoder\\n# creating instance of one-hot-encoder\\nenc = OneHotEncoder(handle_unknown='ignore')\\n# passing bridge-types-cat column (label encoded values of bridge_types)\\nenc_df = pd.DataFrame(enc.fit_transform(df[['region']]).toarray())\\n# merge with main df bridge_df on key values\\nbridge_df = df.join(enc_df)\\nbridge_df\\n\""
      ]
     },
     "execution_count": 83,
     "metadata": {},
     "output_type": "execute_result"
    }
   ],
   "source": [
    "'''\n",
    "from sklearn.preprocessing import OneHotEncoder\n",
    "# creating instance of one-hot-encoder\n",
    "enc = OneHotEncoder(handle_unknown='ignore')\n",
    "# passing bridge-types-cat column (label encoded values of bridge_types)\n",
    "enc_df = pd.DataFrame(enc.fit_transform(df[['region']]).toarray())\n",
    "# merge with main df bridge_df on key values\n",
    "bridge_df = df.join(enc_df)\n",
    "bridge_df\n",
    "'''"
   ]
  },
  {
   "cell_type": "code",
   "execution_count": 122,
   "metadata": {},
   "outputs": [
    {
     "name": "stdout",
     "output_type": "stream",
     "text": [
      "           status   bed  bath  acre_lot zip_code  house_size prev_sold_date  \\\n",
      "0        for_sale   3.0   2.0      0.12      601       920.0            NaT   \n",
      "1        for_sale   4.0   2.0      0.08      601      1527.0            NaT   \n",
      "2        for_sale   2.0   1.0      0.15      795       748.0            NaT   \n",
      "3        for_sale   4.0   2.0      0.10      731      1800.0            NaT   \n",
      "4        for_sale   6.0   2.0      0.05      680         NaN            NaT   \n",
      "...           ...   ...   ...       ...      ...         ...            ...   \n",
      "1401002  for_sale   3.0   2.0      0.22    14739       532.0     2004-06-22   \n",
      "1401048  for_sale   1.0   1.0      0.25    14062       696.0            NaT   \n",
      "1401058  for_sale   3.0   2.0      3.00    14740      1568.0     1999-12-27   \n",
      "1401059  for_sale   5.0   2.0      0.55    14716      4260.0            NaT   \n",
      "1401063  for_sale  10.0   4.0      0.43    14716      4802.0     1994-12-01   \n",
      "\n",
      "            price       region  Region_is_Northeast  Region_is_South  \\\n",
      "0        105000.0  Territories                    0                0   \n",
      "1         80000.0  Territories                    0                0   \n",
      "2         67000.0  Territories                    0                0   \n",
      "3        145000.0  Territories                    0                0   \n",
      "4         65000.0  Territories                    0                0   \n",
      "...           ...          ...                  ...              ...   \n",
      "1401002  118500.0    Northeast                    1                0   \n",
      "1401048  139000.0    Northeast                    1                0   \n",
      "1401058  189900.0    Northeast                    1                0   \n",
      "1401059   95000.0    Northeast                    1                0   \n",
      "1401063  120000.0    Northeast                    1                0   \n",
      "\n",
      "         Region_is_Territories  Region_is_West  \n",
      "0                            1               0  \n",
      "1                            1               0  \n",
      "2                            1               0  \n",
      "3                            1               0  \n",
      "4                            1               0  \n",
      "...                        ...             ...  \n",
      "1401002                      0               0  \n",
      "1401048                      0               0  \n",
      "1401058                      0               0  \n",
      "1401059                      0               0  \n",
      "1401063                      0               0  \n",
      "\n",
      "[152040 rows x 13 columns]\n"
     ]
    }
   ],
   "source": [
    "import pandas as pd\n",
    "\n",
    "# Assuming 'region' is the column you want to create dummy variables for\n",
    "dum_df = pd.get_dummies(df['region'], prefix='Region_is')\n",
    "\n",
    "dum_df = dum_df.astype(int)\n",
    "\n",
    "# Merge with the main DataFrame on the index (assuming 'region' is the index)\n",
    "bridge_df = pd.merge(df, dum_df, left_index=True, right_index=True)\n",
    "\n",
    "# If 'region' is not the index, you can specify the key column in the 'on' parameter\n",
    "# bridge_df = pd.merge(df, dum_df, left_on='region', right_index=True)\n",
    "\n",
    "print(bridge_df)\n"
   ]
  }
 ],
 "metadata": {
  "kernelspec": {
   "display_name": "Python 3",
   "language": "python",
   "name": "python3"
  },
  "language_info": {
   "codemirror_mode": {
    "name": "ipython",
    "version": 3
   },
   "file_extension": ".py",
   "mimetype": "text/x-python",
   "name": "python",
   "nbconvert_exporter": "python",
   "pygments_lexer": "ipython3",
   "version": "3.12.1"
  }
 },
 "nbformat": 4,
 "nbformat_minor": 2
}
